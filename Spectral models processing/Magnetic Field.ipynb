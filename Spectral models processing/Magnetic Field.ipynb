{
 "cells": [
  {
   "cell_type": "code",
   "execution_count": 29,
   "metadata": {},
   "outputs": [],
   "source": [
    "import numpy as np\n",
    "import matplotlib.pyplot as plt\n",
    "from matplotlib import mlab"
   ]
  },
  {
   "cell_type": "code",
   "execution_count": 30,
   "metadata": {},
   "outputs": [],
   "source": [
    "def func(B):\n",
    "    return B**(-1.34-1)"
   ]
  },
  {
   "cell_type": "code",
   "execution_count": 31,
   "metadata": {},
   "outputs": [],
   "source": [
    "x_points=np.array([0.026759156482271052,\n",
    "    24.129879967482566,\n",
    "    9.948984695807717,\n",
    "    5.986508831529978,\n",
    "    2.468295939576663,\n",
    "    1.2588302360222408,\n",
    "    0.6891586547906883,\n",
    "    0.31230981403552904,\n",
    "    0.15373208336281427,\n",
    "    0.08719821957636467,\n",
    "    0.04447106749641235,\n",
    "    0.10659175217006503])\n",
    "y_points=np.array([\n",
    "     9.460271806598691e-17,\n",
    "     8.311486711467128e-16,\n",
    "     2.64050349698218e-15,\n",
    "     2.2150397593996658e-14,\n",
    "     1.0668723256342924e-13,\n",
    "     4.473036166359711e-13,\n",
    "     2.8432513959539297e-12,\n",
    "     1.5021276049021014e-11,\n",
    "     5.741642455935698e-11,\n",
    "     3.6160375504847965e-11,\n",
    "    2.765458007663453e-10,\n",
    "    9.201432015283794e-10,\n",
    "])\n",
    "C=np.zeros_like(y_points)\n",
    "for i in range(len(C)):\n",
    "    C[i]=y_points[i]/func(x_points[i])"
   ]
  },
  {
   "cell_type": "code",
   "execution_count": 32,
   "metadata": {},
   "outputs": [],
   "source": [
    "x_points=np.array([0.03119484558714266,\n",
    "0.03526446326168231,\n",
    "0.045065703377454774,\n",
    "0.05416613036581878,\n",
    "0.07825122125870168,\n",
    "0.10632299922004768,\n",
    "0.14744805674671072,\n",
    "0.18842908056251503,\n",
    "0.26131224633732447,\n",
    "0.36986849255019205,\n",
    "0.5343313441757622,\n",
    "0.7563071825477566,\n",
    "1.2351394020824031,\n",
    "1.8587918911465655,\n",
    "2.685307858723787,\n",
    "3.574822130749999,\n",
    "4.568391487375635,\n",
    "6.875085547429002,\n",
    "11.459656438316879,\n",
    "18.336380373335885\n",
    "])\n",
    "y_points=np.array([ 5.883580272306244e-10,\n",
    " 4.635444517002062e-10,\n",
    " 2.656247711992344e-10,\n",
    " 1.6476303991421424e-10,\n",
    " 7.43852259232429e-11,\n",
    " 3.355872027974712e-11,\n",
    " 1.6403973033526905e-11,\n",
    " 9.399964917727088e-12,\n",
    " 4.24177536979212e-12,\n",
    " 1.9145725490236396e-12,\n",
    " 7.97951500493511e-13,\n",
    " 3.6016429563359235e-13,\n",
    " 1.1826467144141442e-13,\n",
    " 4.552426390404096e-14,\n",
    " 1.897350649345563e-14,\n",
    " 9.270129451109806e-15,\n",
    " 5.312060160372363e-15,\n",
    " 2.044800240575043e-15,\n",
    " 6.199915435745133e-16,\n",
    " 2.035342070708905e-16\n",
    "])\n",
    "C=np.zeros_like(y_points)\n",
    "for i in range(len(C)):\n",
    "    C[i]=y_points[i]/func(x_points[i])"
   ]
  },
  {
   "cell_type": "code",
   "execution_count": 33,
   "metadata": {},
   "outputs": [],
   "source": [
    "x_points.sort()\n",
    "y_points.sort()"
   ]
  },
  {
   "cell_type": "code",
   "execution_count": 34,
   "metadata": {},
   "outputs": [
    {
     "data": {
      "image/png": "[encoded data removed]",
      "text/plain": [
       "<Figure size 432x288 with 1 Axes>"
      ]
     },
     "metadata": {
      "needs_background": "light"
     },
     "output_type": "display_data"
    }
   ],
   "source": [
    "plt.plot(x_points,y_points)\n",
    "plt.plot(x_points,x_points**(-2.34))\n",
    "plt.gca().set_yscale('log')\n",
    "plt.gca().set_xscale('log')"
   ]
  },
  {
   "cell_type": "code",
   "execution_count": 35,
   "metadata": {},
   "outputs": [
    {
     "name": "stdout",
     "output_type": "stream",
     "text": [
      "[1.76114668e-13 1.84867521e-13 1.88047937e-13 1.79383657e-13\n",
      " 1.91538427e-13 1.77056993e-13 1.86022052e-13 1.89222330e-13\n",
      " 1.83527654e-13 1.86768055e-13 1.84099843e-13 1.87350348e-13\n",
      " 1.93852057e-13 1.94197186e-13 1.91422839e-13 1.82684282e-13\n",
      " 1.85827138e-13 1.86157980e-13 1.86572360e-13 1.83988744e-13]\n"
     ]
    }
   ],
   "source": [
    "print(C)"
   ]
  },
  {
   "cell_type": "code",
   "execution_count": 36,
   "metadata": {},
   "outputs": [],
   "source": [
    "Coef=sum(C)/len(C)"
   ]
  },
  {
   "cell_type": "code",
   "execution_count": 37,
   "metadata": {},
   "outputs": [
    {
     "name": "stdout",
     "output_type": "stream",
     "text": [
      "1.8593510364363385e-13\n"
     ]
    }
   ],
   "source": [
    "print(Coef)"
   ]
  },
  {
   "cell_type": "code",
   "execution_count": 38,
   "metadata": {},
   "outputs": [],
   "source": [
    "def Fin_func(B):\n",
    "    return Coef*B**(-1.34-1)"
   ]
  },
  {
   "cell_type": "code",
   "execution_count": 39,
   "metadata": {},
   "outputs": [
    {
     "name": "stderr",
     "output_type": "stream",
     "text": [
      "/home/sdd/anaconda3/lib/python3.7/site-packages/ipykernel_launcher.py:2: RuntimeWarning: divide by zero encountered in power\n",
      "  \n"
     ]
    },
    {
     "data": {
      "image/png": "[encoded data removed]",
      "text/plain": [
       "<Figure size 432x288 with 1 Axes>"
      ]
     },
     "metadata": {
      "needs_background": "light"
     },
     "output_type": "display_data"
    }
   ],
   "source": [
    "#non_thermal\n",
    "#plot\n",
    "x=np.linspace(0,100,10000)\n",
    "Flux_R=Fin_func(x)\n",
    "Flux_X=np.ones(10000)\n",
    "Flux_X*=1.65e-11\n",
    "#plt.plot(x,Flux_R,color='black',label='синхротронное излучение')\n",
    "plt.plot(x_points,Coef*x_points**(-2.34),color='black',label='синхротронное излучение')\n",
    "#plt.plot(x_points*2.8,Coef*x_points**(-2.34),'--',color='black')p\n",
    "#plt.plot(x,Flux_R*11,'-.',color='black')\n",
    "plt.plot(x,Flux_X,color='red',label='обратный комптон')\n",
    "#plt.plot(x,Flux_X/11,'--',color='red')\n",
    "plt.gca().set_yscale('log')\n",
    "plt.gca().set_xscale('log')\n",
    "xmin,xmax,ymin,ymax=plt.axis([1e-1,1,1e-11,5e-11])\n",
    "plt.legend(loc='upper right')\n",
    "plt.xlabel(r'B, $\\mu G$',fontsize=13)\n",
    "plt.ylabel(r'$Эрг \\quad см^{-2} \\quad с^{-1}$',fontsize=13)\n",
    "#plt.savefig('Magnetic_Field_un',dpi=500)\n",
    "plt.show()"
   ]
  },
  {
   "cell_type": "code",
   "execution_count": 40,
   "metadata": {},
   "outputs": [
    {
     "data": {
      "text/plain": [
       "103.26183503680414"
      ]
     },
     "execution_count": 40,
     "metadata": {},
     "output_type": "execute_result"
    }
   ],
   "source": [
    "(1.92e-11/Coef)"
   ]
  },
  {
   "cell_type": "code",
   "execution_count": 41,
   "metadata": {},
   "outputs": [
    {
     "data": {
      "text/plain": [
       "1.940674813784482e-11"
      ]
     },
     "execution_count": 41,
     "metadata": {},
     "output_type": "execute_result"
    }
   ],
   "source": [
    "Fin_func(1.372e-1)"
   ]
  },
  {
   "cell_type": "code",
   "execution_count": 42,
   "metadata": {},
   "outputs": [
    {
     "data": {
      "text/plain": [
       "1.8593510364363385e-13"
      ]
     },
     "execution_count": 42,
     "metadata": {},
     "output_type": "execute_result"
    }
   ],
   "source": [
    "Coef"
   ]
  },
  {
   "cell_type": "code",
   "execution_count": 43,
   "metadata": {},
   "outputs": [
    {
     "data": {
      "text/plain": [
       "8.034358387592485e-12"
      ]
     },
     "execution_count": 43,
     "metadata": {},
     "output_type": "execute_result"
    }
   ],
   "source": [
    "Coef*(2e-1)**(-1.34-1)"
   ]
  },
  {
   "cell_type": "code",
   "execution_count": 44,
   "metadata": {},
   "outputs": [
    {
     "data": {
      "text/plain": [
       "8.034358387592485e-12"
      ]
     },
     "execution_count": 44,
     "metadata": {},
     "output_type": "execute_result"
    }
   ],
   "source": [
    "Fin_func(2e-1)"
   ]
  },
  {
   "cell_type": "code",
   "execution_count": 45,
   "metadata": {},
   "outputs": [],
   "source": [
    "def Integrate(f,a,limit):\n",
    "    r=0.0005\n",
    "    Int=0\n",
    "    while r<limit:\n",
    "        Int+=f(r,a)*r^2*0.001\n",
    "        r+=0.001\n",
    "    return 2*np.pi*Int"
   ]
  },
  {
   "cell_type": "code",
   "execution_count": 46,
   "metadata": {},
   "outputs": [],
   "source": [
    "def Y(r):\n",
    "    return (1+(r/r_c)**2)**(-3*b)\n",
    "def num(r,a):\n",
    "    return (1+(r/r_c)**2)**(-3*b*(1-2.34*a/4))\n",
    "    #return Y(r)*param(ro(r),a)**(-alpha-1)"
   ]
  },
  {
   "cell_type": "code",
   "execution_count": 47,
   "metadata": {},
   "outputs": [],
   "source": [
    "r_c=10.68\n",
    "limit=60\n",
    "b=0.741\n",
    "alpha=1.34"
   ]
  },
  {
   "cell_type": "code",
   "execution_count": 48,
   "metadata": {},
   "outputs": [],
   "source": [
    "a_arr=np.linspace(0,1,100)"
   ]
  },
  {
   "cell_type": "code",
   "execution_count": 49,
   "metadata": {},
   "outputs": [],
   "source": [
    "def f(a):\n",
    "    r_c=10.68\n",
    "    limit=60\n",
    "    b=0.741\n",
    "    alpha=1.34\n",
    "    r=0.0001\n",
    "    Int=0\n",
    "    while r<limit:\n",
    "        Int+=num(r,a)*(r**2)*0.001\n",
    "        r+=0.001\n",
    "    numen=Int\n",
    "    r=0.0005\n",
    "    Int=0\n",
    "    while r<limit:\n",
    "        Int+=Y(r)*(r**2)*0.001\n",
    "        r+=0.001\n",
    "    denumen=Int\n",
    "    return (numen,denumen)"
   ]
  },
  {
   "cell_type": "code",
   "execution_count": 50,
   "metadata": {},
   "outputs": [],
   "source": [
    "func_num=np.zeros_like(a_arr)\n",
    "func_denum=np.zeros_like(a_arr)\n",
    "for i in range(len(a_arr)):\n",
    "    (func_num[i],func_denum[i])=f(a_arr[i])"
   ]
  },
  {
   "cell_type": "code",
   "execution_count": 51,
   "metadata": {},
   "outputs": [
    {
     "data": {
      "text/plain": [
       "[<matplotlib.lines.Line2D at 0x7fe9e97eb5f8>]"
      ]
     },
     "execution_count": 51,
     "metadata": {},
     "output_type": "execute_result"
    },
    {
     "data": {
      "image/png": "[encoded data removed]",
      "text/plain": [
       "<Figure size 432x288 with 1 Axes>"
      ]
     },
     "metadata": {
      "needs_background": "light"
     },
     "output_type": "display_data"
    }
   ],
   "source": [
    "plt.plot(a_arr,func_num)"
   ]
  },
  {
   "cell_type": "code",
   "execution_count": 52,
   "metadata": {},
   "outputs": [
    {
     "data": {
      "text/plain": [
       "[<matplotlib.lines.Line2D at 0x7fe9e9071da0>]"
      ]
     },
     "execution_count": 52,
     "metadata": {},
     "output_type": "execute_result"
    },
    {
     "data": {
      "image/png": "[encoded data removed]",
      "text/plain": [
       "<Figure size 432x288 with 1 Axes>"
      ]
     },
     "metadata": {
      "needs_background": "light"
     },
     "output_type": "display_data"
    }
   ],
   "source": [
    "plt.plot(a_arr,func_denum)"
   ]
  },
  {
   "cell_type": "code",
   "execution_count": 53,
   "metadata": {},
   "outputs": [
    {
     "data": {
      "image/png": "[encoded data removed]",
      "text/plain": [
       "<Figure size 432x288 with 1 Axes>"
      ]
     },
     "metadata": {
      "needs_background": "light"
     },
     "output_type": "display_data"
    }
   ],
   "source": [
    "plt.plot(a_arr,func_num/func_denum)\n",
    "xmin,xmax,ymin,ymax=plt.axis([0,1,1,10])\n",
    "plt.xlabel('a')\n",
    "plt.ylabel('Fx/Fx.0')\n",
    "plt.savefig('Nonuniform_Flux',dpi=1000)\n",
    "plt.show()"
   ]
  },
  {
   "cell_type": "code",
   "execution_count": 54,
   "metadata": {},
   "outputs": [
    {
     "name": "stdout",
     "output_type": "stream",
     "text": [
      "11.375719040439275\n"
     ]
    }
   ],
   "source": [
    "i=99\n",
    "print(func_num[i]/func_denum[i])"
   ]
  },
  {
   "cell_type": "code",
   "execution_count": 55,
   "metadata": {},
   "outputs": [
    {
     "data": {
      "text/plain": [
       "[<matplotlib.lines.Line2D at 0x7fe9e98ce320>]"
      ]
     },
     "execution_count": 55,
     "metadata": {},
     "output_type": "execute_result"
    },
    {
     "data": {
      "image/png": "[encoded data removed]",
      "text/plain": [
       "<Figure size 432x288 with 1 Axes>"
      ]
     },
     "metadata": {
      "needs_background": "light"
     },
     "output_type": "display_data"
    }
   ],
   "source": [
    "plt.plot(np.linspace(0,6,100),num(np.linspace(0,6,100),1))"
   ]
  },
  {
   "cell_type": "code",
   "execution_count": 56,
   "metadata": {},
   "outputs": [
    {
     "data": {
      "text/plain": [
       "[<matplotlib.lines.Line2D at 0x7fe9e8ed5e80>]"
      ]
     },
     "execution_count": 56,
     "metadata": {},
     "output_type": "execute_result"
    },
    {
     "data": {
      "image/png": "[encoded data removed]",
      "text/plain": [
       "<Figure size 432x288 with 1 Axes>"
      ]
     },
     "metadata": {
      "needs_background": "light"
     },
     "output_type": "display_data"
    }
   ],
   "source": [
    "plt.plot(np.linspace(0,6,100),Y(np.linspace(0,6,100)))"
   ]
  },
  {
   "cell_type": "code",
   "execution_count": null,
   "metadata": {},
   "outputs": [],
   "source": []
  }
 ],
 "metadata": {
  "kernelspec": {
   "display_name": "Python 3",
   "language": "python",
   "name": "python3"
  },
  "language_info": {
   "codemirror_mode": {
    "name": "ipython",
    "version": 3
   },
   "file_extension": ".py",
   "mimetype": "text/x-python",
   "name": "python",
   "nbconvert_exporter": "python",
   "pygments_lexer": "ipython3",
   "version": "3.7.3"
  }
 },
 "nbformat": 4,
 "nbformat_minor": 2
}
