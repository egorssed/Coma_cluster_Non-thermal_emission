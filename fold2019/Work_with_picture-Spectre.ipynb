{
 "cells": [
  {
   "cell_type": "code",
   "execution_count": 13,
   "metadata": {},
   "outputs": [],
   "source": [
    "from astropy.io import fits\n",
    "from astropy.wcs import wcs\n",
    "import numpy as np\n",
    "import matplotlib.pyplot as plt\n",
    "from matplotlib import mlab"
   ]
  },
  {
   "cell_type": "code",
   "execution_count": 102,
   "metadata": {},
   "outputs": [],
   "source": [
    "with fits.open('id11_Coma_mapdld _17_27.fits', mode='update') as hdul:\n",
    "    radialBeta1727,errorsBeta1727 =Increase_Curve_Ob(i_center,j_center,hdul,ResBeta1727)"
   ]
  },
  {
   "cell_type": "code",
   "execution_count": 422,
   "metadata": {},
   "outputs": [
    {
     "name": "stdout",
     "output_type": "stream",
     "text": [
      "1.0598350441694269 [1.05983504 8.88285339] [0.75977397 2.28097403]\n"
     ]
    },
    {
     "ename": "ValueError",
     "evalue": "shape mismatch: objects cannot be broadcast to a single shape",
     "output_type": "error",
     "traceback": [
      "\u001b[0;31m---------------------------------------------------------------------------\u001b[0m",
      "\u001b[0;31mValueError\u001b[0m                                Traceback (most recent call last)",
      "\u001b[0;32m<ipython-input-422-103b9eeb328b>\u001b[0m in \u001b[0;36m<module>\u001b[0;34m\u001b[0m\n\u001b[1;32m      9\u001b[0m     \u001b[0mxlist\u001b[0m\u001b[0;34m=\u001b[0m\u001b[0mnp\u001b[0m\u001b[0;34m.\u001b[0m\u001b[0mlinspace\u001b[0m\u001b[0;34m(\u001b[0m\u001b[0;36m0\u001b[0m\u001b[0;34m,\u001b[0m\u001b[0mc\u001b[0m\u001b[0;34m,\u001b[0m\u001b[0;36m100\u001b[0m\u001b[0;34m)\u001b[0m\u001b[0;34m\u001b[0m\u001b[0;34m\u001b[0m\u001b[0m\n\u001b[1;32m     10\u001b[0m     \u001b[0mBetaPlt\u001b[0m\u001b[0;34m=\u001b[0m\u001b[0;34m[\u001b[0m\u001b[0;36m1.10229157\u001b[0m\u001b[0;34m*\u001b[0m\u001b[0mIntegrate\u001b[0m\u001b[0;34m(\u001b[0m\u001b[0mBetaFunc\u001b[0m\u001b[0;34m,\u001b[0m\u001b[0mx\u001b[0m\u001b[0;34m)\u001b[0m\u001b[0;34m*\u001b[0m\u001b[0;36m76.0411\u001b[0m\u001b[0;34m/\u001b[0m\u001b[0;36m30.966\u001b[0m \u001b[0;32mfor\u001b[0m \u001b[0mx\u001b[0m \u001b[0;32min\u001b[0m \u001b[0mxlist\u001b[0m\u001b[0;34m]\u001b[0m\u001b[0;34m\u001b[0m\u001b[0;34m\u001b[0m\u001b[0m\n\u001b[0;32m---> 11\u001b[0;31m     \u001b[0mplt\u001b[0m\u001b[0;34m.\u001b[0m\u001b[0merrorbar\u001b[0m\u001b[0;34m(\u001b[0m\u001b[0mr4\u001b[0m\u001b[0;34m,\u001b[0m \u001b[0mradialBeta1727\u001b[0m\u001b[0;34m,\u001b[0m\u001b[0mxerr\u001b[0m\u001b[0;34m=\u001b[0m\u001b[0mxerr4\u001b[0m\u001b[0;34m,\u001b[0m\u001b[0myerr\u001b[0m\u001b[0;34m=\u001b[0m\u001b[0merrorsBeta1727\u001b[0m\u001b[0;34m,\u001b[0m\u001b[0mlabel\u001b[0m\u001b[0;34m=\u001b[0m\u001b[0;34m'Coma, свертка с '\u001b[0m\u001b[0;34m+\u001b[0m \u001b[0;34mr'$\\beta$-моделью'\u001b[0m\u001b[0;34m,\u001b[0m\u001b[0mfmt\u001b[0m\u001b[0;34m=\u001b[0m\u001b[0;34m'o'\u001b[0m\u001b[0;34m,\u001b[0m\u001b[0mlinewidth\u001b[0m\u001b[0;34m=\u001b[0m\u001b[0;36m0.5\u001b[0m\u001b[0;34m,\u001b[0m\u001b[0mmew\u001b[0m\u001b[0;34m=\u001b[0m\u001b[0;36m0\u001b[0m\u001b[0;34m,\u001b[0m\u001b[0mcolor\u001b[0m\u001b[0;34m=\u001b[0m\u001b[0;34m\"red\"\u001b[0m\u001b[0;34m)\u001b[0m\u001b[0;34m\u001b[0m\u001b[0;34m\u001b[0m\u001b[0m\n\u001b[0m\u001b[1;32m     12\u001b[0m     \u001b[0mplt\u001b[0m\u001b[0;34m.\u001b[0m\u001b[0mplot\u001b[0m\u001b[0;34m(\u001b[0m\u001b[0;36m4\u001b[0m\u001b[0;34m*\u001b[0m\u001b[0mxlist\u001b[0m\u001b[0;34m,\u001b[0m\u001b[0mBetaPlt\u001b[0m\u001b[0;34m,\u001b[0m\u001b[0mlabel\u001b[0m\u001b[0;34m=\u001b[0m\u001b[0;34m'Бета-модель'\u001b[0m\u001b[0;34m)\u001b[0m\u001b[0;34m\u001b[0m\u001b[0;34m\u001b[0m\u001b[0m\n\u001b[1;32m     13\u001b[0m     \u001b[0mplt\u001b[0m\u001b[0;34m.\u001b[0m\u001b[0mshow\u001b[0m\u001b[0;34m(\u001b[0m\u001b[0;34m)\u001b[0m\u001b[0;34m\u001b[0m\u001b[0;34m\u001b[0m\u001b[0m\n",
      "\u001b[0;32m~/anaconda3/lib/python3.7/site-packages/matplotlib/pyplot.py\u001b[0m in \u001b[0;36merrorbar\u001b[0;34m(x, y, yerr, xerr, fmt, ecolor, elinewidth, capsize, barsabove, lolims, uplims, xlolims, xuplims, errorevery, capthick, data, **kwargs)\u001b[0m\n\u001b[1;32m   2527\u001b[0m         \u001b[0mlolims\u001b[0m\u001b[0;34m=\u001b[0m\u001b[0mlolims\u001b[0m\u001b[0;34m,\u001b[0m \u001b[0muplims\u001b[0m\u001b[0;34m=\u001b[0m\u001b[0muplims\u001b[0m\u001b[0;34m,\u001b[0m \u001b[0mxlolims\u001b[0m\u001b[0;34m=\u001b[0m\u001b[0mxlolims\u001b[0m\u001b[0;34m,\u001b[0m\u001b[0;34m\u001b[0m\u001b[0;34m\u001b[0m\u001b[0m\n\u001b[1;32m   2528\u001b[0m         \u001b[0mxuplims\u001b[0m\u001b[0;34m=\u001b[0m\u001b[0mxuplims\u001b[0m\u001b[0;34m,\u001b[0m \u001b[0merrorevery\u001b[0m\u001b[0;34m=\u001b[0m\u001b[0merrorevery\u001b[0m\u001b[0;34m,\u001b[0m \u001b[0mcapthick\u001b[0m\u001b[0;34m=\u001b[0m\u001b[0mcapthick\u001b[0m\u001b[0;34m,\u001b[0m\u001b[0;34m\u001b[0m\u001b[0;34m\u001b[0m\u001b[0m\n\u001b[0;32m-> 2529\u001b[0;31m         **({\"data\": data} if data is not None else {}), **kwargs)\n\u001b[0m\u001b[1;32m   2530\u001b[0m \u001b[0;34m\u001b[0m\u001b[0m\n\u001b[1;32m   2531\u001b[0m \u001b[0;34m\u001b[0m\u001b[0m\n",
      "\u001b[0;32m~/anaconda3/lib/python3.7/site-packages/matplotlib/__init__.py\u001b[0m in \u001b[0;36minner\u001b[0;34m(ax, data, *args, **kwargs)\u001b[0m\n\u001b[1;32m   1563\u001b[0m     \u001b[0;32mdef\u001b[0m \u001b[0minner\u001b[0m\u001b[0;34m(\u001b[0m\u001b[0max\u001b[0m\u001b[0;34m,\u001b[0m \u001b[0;34m*\u001b[0m\u001b[0margs\u001b[0m\u001b[0;34m,\u001b[0m \u001b[0mdata\u001b[0m\u001b[0;34m=\u001b[0m\u001b[0;32mNone\u001b[0m\u001b[0;34m,\u001b[0m \u001b[0;34m**\u001b[0m\u001b[0mkwargs\u001b[0m\u001b[0;34m)\u001b[0m\u001b[0;34m:\u001b[0m\u001b[0;34m\u001b[0m\u001b[0;34m\u001b[0m\u001b[0m\n\u001b[1;32m   1564\u001b[0m         \u001b[0;32mif\u001b[0m \u001b[0mdata\u001b[0m \u001b[0;32mis\u001b[0m \u001b[0;32mNone\u001b[0m\u001b[0;34m:\u001b[0m\u001b[0;34m\u001b[0m\u001b[0;34m\u001b[0m\u001b[0m\n\u001b[0;32m-> 1565\u001b[0;31m             \u001b[0;32mreturn\u001b[0m \u001b[0mfunc\u001b[0m\u001b[0;34m(\u001b[0m\u001b[0max\u001b[0m\u001b[0;34m,\u001b[0m \u001b[0;34m*\u001b[0m\u001b[0mmap\u001b[0m\u001b[0;34m(\u001b[0m\u001b[0msanitize_sequence\u001b[0m\u001b[0;34m,\u001b[0m \u001b[0margs\u001b[0m\u001b[0;34m)\u001b[0m\u001b[0;34m,\u001b[0m \u001b[0;34m**\u001b[0m\u001b[0mkwargs\u001b[0m\u001b[0;34m)\u001b[0m\u001b[0;34m\u001b[0m\u001b[0;34m\u001b[0m\u001b[0m\n\u001b[0m\u001b[1;32m   1566\u001b[0m \u001b[0;34m\u001b[0m\u001b[0m\n\u001b[1;32m   1567\u001b[0m         \u001b[0mbound\u001b[0m \u001b[0;34m=\u001b[0m \u001b[0mnew_sig\u001b[0m\u001b[0;34m.\u001b[0m\u001b[0mbind\u001b[0m\u001b[0;34m(\u001b[0m\u001b[0max\u001b[0m\u001b[0;34m,\u001b[0m \u001b[0;34m*\u001b[0m\u001b[0margs\u001b[0m\u001b[0;34m,\u001b[0m \u001b[0;34m**\u001b[0m\u001b[0mkwargs\u001b[0m\u001b[0;34m)\u001b[0m\u001b[0;34m\u001b[0m\u001b[0;34m\u001b[0m\u001b[0m\n",
      "\u001b[0;32m~/anaconda3/lib/python3.7/site-packages/matplotlib/axes/_axes.py\u001b[0m in \u001b[0;36merrorbar\u001b[0;34m(self, x, y, yerr, xerr, fmt, ecolor, elinewidth, capsize, barsabove, lolims, uplims, xlolims, xuplims, errorevery, capthick, **kwargs)\u001b[0m\n\u001b[1;32m   3263\u001b[0m         \u001b[0;32mif\u001b[0m \u001b[0mplot_line\u001b[0m\u001b[0;34m:\u001b[0m\u001b[0;34m\u001b[0m\u001b[0;34m\u001b[0m\u001b[0m\n\u001b[1;32m   3264\u001b[0m             \u001b[0mdata_line\u001b[0m \u001b[0;34m=\u001b[0m \u001b[0mmlines\u001b[0m\u001b[0;34m.\u001b[0m\u001b[0mLine2D\u001b[0m\u001b[0;34m(\u001b[0m\u001b[0mx\u001b[0m\u001b[0;34m,\u001b[0m \u001b[0my\u001b[0m\u001b[0;34m,\u001b[0m \u001b[0;34m**\u001b[0m\u001b[0mplot_line_style\u001b[0m\u001b[0;34m)\u001b[0m\u001b[0;34m\u001b[0m\u001b[0;34m\u001b[0m\u001b[0m\n\u001b[0;32m-> 3265\u001b[0;31m             \u001b[0mself\u001b[0m\u001b[0;34m.\u001b[0m\u001b[0madd_line\u001b[0m\u001b[0;34m(\u001b[0m\u001b[0mdata_line\u001b[0m\u001b[0;34m)\u001b[0m\u001b[0;34m\u001b[0m\u001b[0;34m\u001b[0m\u001b[0m\n\u001b[0m\u001b[1;32m   3266\u001b[0m \u001b[0;34m\u001b[0m\u001b[0m\n\u001b[1;32m   3267\u001b[0m         \u001b[0mbarcols\u001b[0m \u001b[0;34m=\u001b[0m \u001b[0;34m[\u001b[0m\u001b[0;34m]\u001b[0m\u001b[0;34m\u001b[0m\u001b[0;34m\u001b[0m\u001b[0m\n",
      "\u001b[0;32m~/anaconda3/lib/python3.7/site-packages/matplotlib/axes/_base.py\u001b[0m in \u001b[0;36madd_line\u001b[0;34m(self, line)\u001b[0m\n\u001b[1;32m   1848\u001b[0m             \u001b[0mline\u001b[0m\u001b[0;34m.\u001b[0m\u001b[0mset_clip_path\u001b[0m\u001b[0;34m(\u001b[0m\u001b[0mself\u001b[0m\u001b[0;34m.\u001b[0m\u001b[0mpatch\u001b[0m\u001b[0;34m)\u001b[0m\u001b[0;34m\u001b[0m\u001b[0;34m\u001b[0m\u001b[0m\n\u001b[1;32m   1849\u001b[0m \u001b[0;34m\u001b[0m\u001b[0m\n\u001b[0;32m-> 1850\u001b[0;31m         \u001b[0mself\u001b[0m\u001b[0;34m.\u001b[0m\u001b[0m_update_line_limits\u001b[0m\u001b[0;34m(\u001b[0m\u001b[0mline\u001b[0m\u001b[0;34m)\u001b[0m\u001b[0;34m\u001b[0m\u001b[0;34m\u001b[0m\u001b[0m\n\u001b[0m\u001b[1;32m   1851\u001b[0m         \u001b[0;32mif\u001b[0m \u001b[0;32mnot\u001b[0m \u001b[0mline\u001b[0m\u001b[0;34m.\u001b[0m\u001b[0mget_label\u001b[0m\u001b[0;34m(\u001b[0m\u001b[0;34m)\u001b[0m\u001b[0;34m:\u001b[0m\u001b[0;34m\u001b[0m\u001b[0;34m\u001b[0m\u001b[0m\n\u001b[1;32m   1852\u001b[0m             \u001b[0mline\u001b[0m\u001b[0;34m.\u001b[0m\u001b[0mset_label\u001b[0m\u001b[0;34m(\u001b[0m\u001b[0;34m'_line%d'\u001b[0m \u001b[0;34m%\u001b[0m \u001b[0mlen\u001b[0m\u001b[0;34m(\u001b[0m\u001b[0mself\u001b[0m\u001b[0;34m.\u001b[0m\u001b[0mlines\u001b[0m\u001b[0;34m)\u001b[0m\u001b[0;34m)\u001b[0m\u001b[0;34m\u001b[0m\u001b[0;34m\u001b[0m\u001b[0m\n",
      "\u001b[0;32m~/anaconda3/lib/python3.7/site-packages/matplotlib/axes/_base.py\u001b[0m in \u001b[0;36m_update_line_limits\u001b[0;34m(self, line)\u001b[0m\n\u001b[1;32m   1870\u001b[0m         \u001b[0mFigures\u001b[0m \u001b[0mout\u001b[0m \u001b[0mthe\u001b[0m \u001b[0mdata\u001b[0m \u001b[0mlimit\u001b[0m \u001b[0mof\u001b[0m \u001b[0mthe\u001b[0m \u001b[0mgiven\u001b[0m \u001b[0mline\u001b[0m\u001b[0;34m,\u001b[0m \u001b[0mupdating\u001b[0m \u001b[0mself\u001b[0m\u001b[0;34m.\u001b[0m\u001b[0mdataLim\u001b[0m\u001b[0;34m.\u001b[0m\u001b[0;34m\u001b[0m\u001b[0;34m\u001b[0m\u001b[0m\n\u001b[1;32m   1871\u001b[0m         \"\"\"\n\u001b[0;32m-> 1872\u001b[0;31m         \u001b[0mpath\u001b[0m \u001b[0;34m=\u001b[0m \u001b[0mline\u001b[0m\u001b[0;34m.\u001b[0m\u001b[0mget_path\u001b[0m\u001b[0;34m(\u001b[0m\u001b[0;34m)\u001b[0m\u001b[0;34m\u001b[0m\u001b[0;34m\u001b[0m\u001b[0m\n\u001b[0m\u001b[1;32m   1873\u001b[0m         \u001b[0;32mif\u001b[0m \u001b[0mpath\u001b[0m\u001b[0;34m.\u001b[0m\u001b[0mvertices\u001b[0m\u001b[0;34m.\u001b[0m\u001b[0msize\u001b[0m \u001b[0;34m==\u001b[0m \u001b[0;36m0\u001b[0m\u001b[0;34m:\u001b[0m\u001b[0;34m\u001b[0m\u001b[0;34m\u001b[0m\u001b[0m\n\u001b[1;32m   1874\u001b[0m             \u001b[0;32mreturn\u001b[0m\u001b[0;34m\u001b[0m\u001b[0;34m\u001b[0m\u001b[0m\n",
      "\u001b[0;32m~/anaconda3/lib/python3.7/site-packages/matplotlib/lines.py\u001b[0m in \u001b[0;36mget_path\u001b[0;34m(self)\u001b[0m\n\u001b[1;32m   1025\u001b[0m         \"\"\"\n\u001b[1;32m   1026\u001b[0m         \u001b[0;32mif\u001b[0m \u001b[0mself\u001b[0m\u001b[0;34m.\u001b[0m\u001b[0m_invalidy\u001b[0m \u001b[0;32mor\u001b[0m \u001b[0mself\u001b[0m\u001b[0;34m.\u001b[0m\u001b[0m_invalidx\u001b[0m\u001b[0;34m:\u001b[0m\u001b[0;34m\u001b[0m\u001b[0;34m\u001b[0m\u001b[0m\n\u001b[0;32m-> 1027\u001b[0;31m             \u001b[0mself\u001b[0m\u001b[0;34m.\u001b[0m\u001b[0mrecache\u001b[0m\u001b[0;34m(\u001b[0m\u001b[0;34m)\u001b[0m\u001b[0;34m\u001b[0m\u001b[0;34m\u001b[0m\u001b[0m\n\u001b[0m\u001b[1;32m   1028\u001b[0m         \u001b[0;32mreturn\u001b[0m \u001b[0mself\u001b[0m\u001b[0;34m.\u001b[0m\u001b[0m_path\u001b[0m\u001b[0;34m\u001b[0m\u001b[0;34m\u001b[0m\u001b[0m\n\u001b[1;32m   1029\u001b[0m \u001b[0;34m\u001b[0m\u001b[0m\n",
      "\u001b[0;32m~/anaconda3/lib/python3.7/site-packages/matplotlib/lines.py\u001b[0m in \u001b[0;36mrecache\u001b[0;34m(self, always)\u001b[0m\n\u001b[1;32m    677\u001b[0m             \u001b[0my\u001b[0m \u001b[0;34m=\u001b[0m \u001b[0mself\u001b[0m\u001b[0;34m.\u001b[0m\u001b[0m_y\u001b[0m\u001b[0;34m\u001b[0m\u001b[0;34m\u001b[0m\u001b[0m\n\u001b[1;32m    678\u001b[0m \u001b[0;34m\u001b[0m\u001b[0m\n\u001b[0;32m--> 679\u001b[0;31m         \u001b[0mself\u001b[0m\u001b[0;34m.\u001b[0m\u001b[0m_xy\u001b[0m \u001b[0;34m=\u001b[0m \u001b[0mnp\u001b[0m\u001b[0;34m.\u001b[0m\u001b[0mcolumn_stack\u001b[0m\u001b[0;34m(\u001b[0m\u001b[0mnp\u001b[0m\u001b[0;34m.\u001b[0m\u001b[0mbroadcast_arrays\u001b[0m\u001b[0;34m(\u001b[0m\u001b[0mx\u001b[0m\u001b[0;34m,\u001b[0m \u001b[0my\u001b[0m\u001b[0;34m)\u001b[0m\u001b[0;34m)\u001b[0m\u001b[0;34m.\u001b[0m\u001b[0mastype\u001b[0m\u001b[0;34m(\u001b[0m\u001b[0mfloat\u001b[0m\u001b[0;34m)\u001b[0m\u001b[0;34m\u001b[0m\u001b[0;34m\u001b[0m\u001b[0m\n\u001b[0m\u001b[1;32m    680\u001b[0m         \u001b[0mself\u001b[0m\u001b[0;34m.\u001b[0m\u001b[0m_x\u001b[0m\u001b[0;34m,\u001b[0m \u001b[0mself\u001b[0m\u001b[0;34m.\u001b[0m\u001b[0m_y\u001b[0m \u001b[0;34m=\u001b[0m \u001b[0mself\u001b[0m\u001b[0;34m.\u001b[0m\u001b[0m_xy\u001b[0m\u001b[0;34m.\u001b[0m\u001b[0mT\u001b[0m  \u001b[0;31m# views\u001b[0m\u001b[0;34m\u001b[0m\u001b[0;34m\u001b[0m\u001b[0m\n\u001b[1;32m    681\u001b[0m \u001b[0;34m\u001b[0m\u001b[0m\n",
      "\u001b[0;32m~/anaconda3/lib/python3.7/site-packages/numpy/lib/stride_tricks.py\u001b[0m in \u001b[0;36mbroadcast_arrays\u001b[0;34m(*args, **kwargs)\u001b[0m\n\u001b[1;32m    257\u001b[0m     \u001b[0margs\u001b[0m \u001b[0;34m=\u001b[0m \u001b[0;34m[\u001b[0m\u001b[0mnp\u001b[0m\u001b[0;34m.\u001b[0m\u001b[0marray\u001b[0m\u001b[0;34m(\u001b[0m\u001b[0m_m\u001b[0m\u001b[0;34m,\u001b[0m \u001b[0mcopy\u001b[0m\u001b[0;34m=\u001b[0m\u001b[0;32mFalse\u001b[0m\u001b[0;34m,\u001b[0m \u001b[0msubok\u001b[0m\u001b[0;34m=\u001b[0m\u001b[0msubok\u001b[0m\u001b[0;34m)\u001b[0m \u001b[0;32mfor\u001b[0m \u001b[0m_m\u001b[0m \u001b[0;32min\u001b[0m \u001b[0margs\u001b[0m\u001b[0;34m]\u001b[0m\u001b[0;34m\u001b[0m\u001b[0;34m\u001b[0m\u001b[0m\n\u001b[1;32m    258\u001b[0m \u001b[0;34m\u001b[0m\u001b[0m\n\u001b[0;32m--> 259\u001b[0;31m     \u001b[0mshape\u001b[0m \u001b[0;34m=\u001b[0m \u001b[0m_broadcast_shape\u001b[0m\u001b[0;34m(\u001b[0m\u001b[0;34m*\u001b[0m\u001b[0margs\u001b[0m\u001b[0;34m)\u001b[0m\u001b[0;34m\u001b[0m\u001b[0;34m\u001b[0m\u001b[0m\n\u001b[0m\u001b[1;32m    260\u001b[0m \u001b[0;34m\u001b[0m\u001b[0m\n\u001b[1;32m    261\u001b[0m     \u001b[0;32mif\u001b[0m \u001b[0mall\u001b[0m\u001b[0;34m(\u001b[0m\u001b[0marray\u001b[0m\u001b[0;34m.\u001b[0m\u001b[0mshape\u001b[0m \u001b[0;34m==\u001b[0m \u001b[0mshape\u001b[0m \u001b[0;32mfor\u001b[0m \u001b[0marray\u001b[0m \u001b[0;32min\u001b[0m \u001b[0margs\u001b[0m\u001b[0;34m)\u001b[0m\u001b[0;34m:\u001b[0m\u001b[0;34m\u001b[0m\u001b[0;34m\u001b[0m\u001b[0m\n",
      "\u001b[0;32m~/anaconda3/lib/python3.7/site-packages/numpy/lib/stride_tricks.py\u001b[0m in \u001b[0;36m_broadcast_shape\u001b[0;34m(*args)\u001b[0m\n\u001b[1;32m    191\u001b[0m     \u001b[0;31m# use the old-iterator because np.nditer does not handle size 0 arrays\u001b[0m\u001b[0;34m\u001b[0m\u001b[0;34m\u001b[0m\u001b[0;34m\u001b[0m\u001b[0m\n\u001b[1;32m    192\u001b[0m     \u001b[0;31m# consistently\u001b[0m\u001b[0;34m\u001b[0m\u001b[0;34m\u001b[0m\u001b[0;34m\u001b[0m\u001b[0m\n\u001b[0;32m--> 193\u001b[0;31m     \u001b[0mb\u001b[0m \u001b[0;34m=\u001b[0m \u001b[0mnp\u001b[0m\u001b[0;34m.\u001b[0m\u001b[0mbroadcast\u001b[0m\u001b[0;34m(\u001b[0m\u001b[0;34m*\u001b[0m\u001b[0margs\u001b[0m\u001b[0;34m[\u001b[0m\u001b[0;34m:\u001b[0m\u001b[0;36m32\u001b[0m\u001b[0;34m]\u001b[0m\u001b[0;34m)\u001b[0m\u001b[0;34m\u001b[0m\u001b[0;34m\u001b[0m\u001b[0m\n\u001b[0m\u001b[1;32m    194\u001b[0m     \u001b[0;31m# unfortunately, it cannot handle 32 or more arguments directly\u001b[0m\u001b[0;34m\u001b[0m\u001b[0;34m\u001b[0m\u001b[0;34m\u001b[0m\u001b[0m\n\u001b[1;32m    195\u001b[0m     \u001b[0;32mfor\u001b[0m \u001b[0mpos\u001b[0m \u001b[0;32min\u001b[0m \u001b[0mrange\u001b[0m\u001b[0;34m(\u001b[0m\u001b[0;36m32\u001b[0m\u001b[0;34m,\u001b[0m \u001b[0mlen\u001b[0m\u001b[0;34m(\u001b[0m\u001b[0margs\u001b[0m\u001b[0;34m)\u001b[0m\u001b[0;34m,\u001b[0m \u001b[0;36m31\u001b[0m\u001b[0;34m)\u001b[0m\u001b[0;34m:\u001b[0m\u001b[0;34m\u001b[0m\u001b[0;34m\u001b[0m\u001b[0m\n",
      "\u001b[0;31mValueError\u001b[0m: shape mismatch: objects cannot be broadcast to a single shape"
     ]
    },
    {
     "data": {
      "image/png": "[encoded data removed]",
      "text/plain": [
       "<Figure size 432x288 with 1 Axes>"
      ]
     },
     "metadata": {
      "needs_background": "light"
     },
     "output_type": "display_data"
    }
   ],
   "source": [
    "with fits.open('id11_Coma_mapdld _17_27.fits', mode='update') as hdul:\n",
    "    ResBeta1727=translation(hdul,BetaMatr)\n",
    "    ResEqual1727=translation(hdul,EqualMatr)\n",
    "    radialBeta1727,errorsBeta1727 =Increase_Curve_Ob(i_center,j_center,hdul,ResBeta1727)\n",
    "    print(ResBeta1727[ObjectVol][ObjectVol],radialBeta1727[0:2],errorsBeta1727[0:2])\n",
    "    #Models\n",
    "    r4=range(0,64,4)\n",
    "    xerr4=np.zeros(16)\n",
    "    xlist=np.linspace(0,c,100)\n",
    "    BetaPlt=[1.10229157*Integrate(BetaFunc,x)*76.0411/30.966 for x in xlist]\n",
    "    plt.errorbar(r4, radialBeta1727,xerr=xerr4,yerr=errorsBeta1727,label='Coma, свертка с '+ r'$\\beta$-моделью',fmt='o',linewidth=0.5,mew=0,color=\"red\")\n",
    "    plt.plot(4*xlist,BetaPlt,label='Бета-модель')\n",
    "    plt.show()\n",
    "    hdul.flush()\n",
    "    hdul.close()"
   ]
  },
  {
   "cell_type": "code",
   "execution_count": 117,
   "metadata": {},
   "outputs": [
    {
     "name": "stdout",
     "output_type": "stream",
     "text": [
      "Circle Radial Profile\n"
     ]
    },
    {
     "ename": "IndexError",
     "evalue": "invalid index to scalar variable.",
     "output_type": "error",
     "traceback": [
      "\u001b[0;31m---------------------------------------------------------------------------\u001b[0m",
      "\u001b[0;31mIndexError\u001b[0m                                Traceback (most recent call last)",
      "\u001b[0;32m<ipython-input-117-f7d95e7f4287>\u001b[0m in \u001b[0;36m<module>\u001b[0;34m\u001b[0m\n\u001b[1;32m      2\u001b[0m \u001b[0;32mwith\u001b[0m \u001b[0mfits\u001b[0m\u001b[0;34m.\u001b[0m\u001b[0mopen\u001b[0m\u001b[0;34m(\u001b[0m\u001b[0;34m'id11_Coma_mapdld _17_27.fits'\u001b[0m\u001b[0;34m,\u001b[0m \u001b[0mmode\u001b[0m\u001b[0;34m=\u001b[0m\u001b[0;34m'update'\u001b[0m\u001b[0;34m)\u001b[0m \u001b[0;32mas\u001b[0m \u001b[0mhdul\u001b[0m\u001b[0;34m:\u001b[0m\u001b[0;34m\u001b[0m\u001b[0;34m\u001b[0m\u001b[0m\n\u001b[1;32m      3\u001b[0m \u001b[0;34m\u001b[0m\u001b[0m\n\u001b[0;32m----> 4\u001b[0;31m     \u001b[0mradial\u001b[0m\u001b[0;34m,\u001b[0m\u001b[0merrors\u001b[0m \u001b[0;34m=\u001b[0m\u001b[0mRadial_Profile\u001b[0m\u001b[0;34m(\u001b[0m\u001b[0mi_center\u001b[0m\u001b[0;34m,\u001b[0m\u001b[0mj_center\u001b[0m\u001b[0;34m,\u001b[0m\u001b[0mhdul\u001b[0m\u001b[0;34m,\u001b[0m\u001b[0mradialEqual1727\u001b[0m\u001b[0;34m)\u001b[0m\u001b[0;34m\u001b[0m\u001b[0;34m\u001b[0m\u001b[0m\n\u001b[0m\u001b[1;32m      5\u001b[0m     \u001b[0mprint\u001b[0m\u001b[0;34m(\u001b[0m\u001b[0;34m\"radial\"\u001b[0m\u001b[0;34m,\u001b[0m\u001b[0mradial\u001b[0m\u001b[0;34m)\u001b[0m\u001b[0;34m\u001b[0m\u001b[0;34m\u001b[0m\u001b[0m\n\u001b[1;32m      6\u001b[0m     \u001b[0mprint\u001b[0m\u001b[0;34m(\u001b[0m\u001b[0;34m\"errors\"\u001b[0m\u001b[0;34m,\u001b[0m\u001b[0merrors\u001b[0m\u001b[0;34m)\u001b[0m\u001b[0;34m\u001b[0m\u001b[0;34m\u001b[0m\u001b[0m\n",
      "\u001b[0;32m<ipython-input-115-1e2403a7c80b>\u001b[0m in \u001b[0;36mRadial_Profile\u001b[0;34m(i0, j0, file, Matr)\u001b[0m\n\u001b[1;32m      8\u001b[0m             \u001b[0mdistance\u001b[0m\u001b[0;34m=\u001b[0m\u001b[0mnp\u001b[0m\u001b[0;34m.\u001b[0m\u001b[0msqrt\u001b[0m\u001b[0;34m(\u001b[0m\u001b[0;34m(\u001b[0m\u001b[0mi\u001b[0m\u001b[0;34m-\u001b[0m\u001b[0mObjectVol\u001b[0m\u001b[0;34m)\u001b[0m\u001b[0;34m**\u001b[0m\u001b[0;36m2\u001b[0m\u001b[0;34m+\u001b[0m\u001b[0;34m(\u001b[0m\u001b[0mj\u001b[0m\u001b[0;34m-\u001b[0m\u001b[0mObjectVol\u001b[0m\u001b[0;34m)\u001b[0m\u001b[0;34m**\u001b[0m\u001b[0;36m2\u001b[0m\u001b[0;34m)\u001b[0m\u001b[0;34m\u001b[0m\u001b[0;34m\u001b[0m\u001b[0m\n\u001b[1;32m      9\u001b[0m             \u001b[0;32mif\u001b[0m\u001b[0;34m(\u001b[0m\u001b[0mdistance\u001b[0m\u001b[0;34m<\u001b[0m\u001b[0mc\u001b[0m\u001b[0;34m+\u001b[0m\u001b[0;36m1\u001b[0m\u001b[0;34m)\u001b[0m\u001b[0;34m:\u001b[0m\u001b[0;34m\u001b[0m\u001b[0;34m\u001b[0m\u001b[0m\n\u001b[0;32m---> 10\u001b[0;31m                 \u001b[0mradial\u001b[0m\u001b[0;34m[\u001b[0m\u001b[0mint\u001b[0m\u001b[0;34m(\u001b[0m\u001b[0mdistance\u001b[0m\u001b[0;34m)\u001b[0m\u001b[0;34m]\u001b[0m\u001b[0;34m+=\u001b[0m\u001b[0mMatr\u001b[0m\u001b[0;34m[\u001b[0m\u001b[0mi\u001b[0m\u001b[0;34m]\u001b[0m\u001b[0;34m[\u001b[0m\u001b[0mj\u001b[0m\u001b[0;34m]\u001b[0m\u001b[0;34m\u001b[0m\u001b[0;34m\u001b[0m\u001b[0m\n\u001b[0m\u001b[1;32m     11\u001b[0m                 \u001b[0merrors\u001b[0m\u001b[0;34m[\u001b[0m\u001b[0mint\u001b[0m\u001b[0;34m(\u001b[0m\u001b[0mdistance\u001b[0m\u001b[0;34m)\u001b[0m\u001b[0;34m]\u001b[0m\u001b[0;34m+=\u001b[0m\u001b[0mfile\u001b[0m\u001b[0;34m[\u001b[0m\u001b[0;36m1\u001b[0m\u001b[0;34m]\u001b[0m\u001b[0;34m.\u001b[0m\u001b[0mdata\u001b[0m\u001b[0;34m[\u001b[0m\u001b[0mi0\u001b[0m\u001b[0;34m-\u001b[0m\u001b[0mObjectVol\u001b[0m\u001b[0;34m+\u001b[0m\u001b[0mi\u001b[0m\u001b[0;34m]\u001b[0m\u001b[0;34m[\u001b[0m\u001b[0mj0\u001b[0m\u001b[0;34m-\u001b[0m\u001b[0mObjectVol\u001b[0m\u001b[0;34m+\u001b[0m\u001b[0mj\u001b[0m\u001b[0;34m]\u001b[0m\u001b[0;34m**\u001b[0m\u001b[0;36m2\u001b[0m\u001b[0;34m\u001b[0m\u001b[0;34m\u001b[0m\u001b[0m\n\u001b[1;32m     12\u001b[0m                 \u001b[0mcounter\u001b[0m\u001b[0;34m[\u001b[0m\u001b[0mint\u001b[0m\u001b[0;34m(\u001b[0m\u001b[0mdistance\u001b[0m\u001b[0;34m)\u001b[0m\u001b[0;34m]\u001b[0m\u001b[0;34m+=\u001b[0m\u001b[0;36m1\u001b[0m\u001b[0;34m\u001b[0m\u001b[0;34m\u001b[0m\u001b[0m\n",
      "\u001b[0;31mIndexError\u001b[0m: invalid index to scalar variable."
     ]
    }
   ],
   "source": []
  },
  {
   "cell_type": "code",
   "execution_count": 118,
   "metadata": {},
   "outputs": [
    {
     "name": "stdout",
     "output_type": "stream",
     "text": [
      "Increase curve\n"
     ]
    },
    {
     "data": {
      "image/png": "[encoded data removed]",
      "text/plain": [
       "<Figure size 432x288 with 1 Axes>"
      ]
     },
     "metadata": {
      "needs_background": "light"
     },
     "output_type": "display_data"
    }
   ],
   "source": []
  },
  {
   "cell_type": "code",
   "execution_count": null,
   "metadata": {},
   "outputs": [],
   "source": [
    "plt.plot()"
   ]
  },
  {
   "cell_type": "code",
   "execution_count": 111,
   "metadata": {},
   "outputs": [
    {
     "data": {
      "text/plain": [
       "2.8561221742716114"
      ]
     },
     "execution_count": 111,
     "metadata": {},
     "output_type": "execute_result"
    }
   ],
   "source": [
    "BetaPlt[4]"
   ]
  },
  {
   "cell_type": "code",
   "execution_count": 108,
   "metadata": {},
   "outputs": [
    {
     "data": {
      "text/plain": [
       "1.0101010101010102"
      ]
     },
     "execution_count": 108,
     "metadata": {},
     "output_type": "execute_result"
    }
   ],
   "source": [
    "xlist[4]"
   ]
  },
  {
   "cell_type": "code",
   "execution_count": 106,
   "metadata": {},
   "outputs": [
    {
     "data": {
      "text/plain": [
       "3.156343698501587"
      ]
     },
     "execution_count": 106,
     "metadata": {},
     "output_type": "execute_result"
    }
   ],
   "source": [
    "radialEqual1727[0]"
   ]
  },
  {
   "cell_type": "code",
   "execution_count": 92,
   "metadata": {},
   "outputs": [
    {
     "data": {
      "text/plain": [
       "2.819035399263972"
      ]
     },
     "execution_count": 92,
     "metadata": {},
     "output_type": "execute_result"
    }
   ],
   "source": [
    "radialEqual1727[25]/BetaPlt[99]"
   ]
  },
  {
   "cell_type": "code",
   "execution_count": 98,
   "metadata": {},
   "outputs": [
    {
     "data": {
      "text/plain": [
       "8.578432241661686"
      ]
     },
     "execution_count": 98,
     "metadata": {},
     "output_type": "execute_result"
    }
   ],
   "source": [
    "radialEqual1727[25]/GaussPlt[99]"
   ]
  },
  {
   "cell_type": "code",
   "execution_count": 89,
   "metadata": {},
   "outputs": [
    {
     "data": {
      "text/plain": [
       "84.21856383871636"
      ]
     },
     "execution_count": 89,
     "metadata": {},
     "output_type": "execute_result"
    }
   ],
   "source": [
    "radialEqual1727[25]"
   ]
  },
  {
   "cell_type": "code",
   "execution_count": 90,
   "metadata": {},
   "outputs": [
    {
     "data": {
      "text/plain": [
       "25.0"
      ]
     },
     "execution_count": 90,
     "metadata": {},
     "output_type": "execute_result"
    }
   ],
   "source": [
    "xlist[99]"
   ]
  },
  {
   "cell_type": "code",
   "execution_count": 91,
   "metadata": {},
   "outputs": [
    {
     "data": {
      "text/plain": [
       "29.87495788832775"
      ]
     },
     "execution_count": 91,
     "metadata": {},
     "output_type": "execute_result"
    }
   ],
   "source": [
    "BetaPlt[99]"
   ]
  },
  {
   "cell_type": "code",
   "execution_count": 97,
   "metadata": {},
   "outputs": [
    {
     "data": {
      "text/plain": [
       "9.817477304268222"
      ]
     },
     "execution_count": 97,
     "metadata": {},
     "output_type": "execute_result"
    }
   ],
   "source": [
    "GaussPlt[99]"
   ]
  },
  {
   "cell_type": "code",
   "execution_count": 26,
   "metadata": {},
   "outputs": [
    {
     "name": "stdout",
     "output_type": "stream",
     "text": [
      "0.4602202279534317 [0.46022023 3.71590983] [0.83814162 0.2795122 ]\n"
     ]
    },
    {
     "data": {
      "image/png": "[encoded data removed]",
      "text/plain": [
       "<Figure size 432x288 with 1 Axes>"
      ]
     },
     "metadata": {
      "needs_background": "light"
     },
     "output_type": "display_data"
    }
   ],
   "source": [
    "with fits.open('id11_Coma_mapdld _27_36.fits', mode='update') as hdul:\n",
    "    ResBeta_27_36=translation(hdul,BetaMatr)\n",
    "    radialBeta_27_36,errorsBeta_27_36 =Increase_Curve_Ob(i_center,j_center,hdul,ResBeta_27_36)\n",
    "    print(ResBeta_27_36[ObjectVol][ObjectVol],radialBeta_27_36[0:2],errorsBeta_27_36[0:2])\n",
    "    #Models\n",
    "    r4=range(0,64,4)\n",
    "    xerr4=np.zeros(16)\n",
    "    xlist=np.linspace(0,c,100)\n",
    "    BetaPlt=[1.10229157*Integrate(BetaFunc,x)*76.0411/30.966 for x in xlist]\n",
    "    plt.errorbar(r4, radialBeta_27_36,xerr=xerr4,yerr=errorsBeta,label='Coma, свертка с '+ r'$\\beta$-моделью',fmt='o',linewidth=0.5,mew=0,color=\"red\")\n",
    "    plt.plot(4*xlist,BetaPlt,label='Бета-модель')\n",
    "    plt.show()\n",
    "    hdul.flush()\n",
    "    hdul.close()"
   ]
  },
  {
   "cell_type": "code",
   "execution_count": 27,
   "metadata": {},
   "outputs": [
    {
     "name": "stdout",
     "output_type": "stream",
     "text": [
      "0.10330147367671333 [0.10330147 0.77372386] [0.91775149 0.30606227]\n"
     ]
    },
    {
     "data": {
      "image/png": "[encoded data removed]",
      "text/plain": [
       "<Figure size 432x288 with 1 Axes>"
      ]
     },
     "metadata": {
      "needs_background": "light"
     },
     "output_type": "display_data"
    }
   ],
   "source": [
    "with fits.open('id11_Coma_mapdld _36_50.fits', mode='update') as hdul:\n",
    "    ResBeta_36_50=translation(hdul,BetaMatr)\n",
    "    radialBeta_36_50,errorsBeta_36_50 =Increase_Curve_Ob(i_center,j_center,hdul,ResBeta_36_50)\n",
    "    print(ResBeta_36_50[ObjectVol][ObjectVol],radialBeta_36_50[0:2],errorsBeta_36_50[0:2])\n",
    "    #Models\n",
    "    r4=range(0,64,4)\n",
    "    xerr4=np.zeros(16)\n",
    "    xlist=np.linspace(0,c,100)\n",
    "    BetaPlt=[1.10229157*Integrate(BetaFunc,x)*76.0411/30.966 for x in xlist]\n",
    "    plt.errorbar(r4, radialBeta_36_50,xerr=xerr4,yerr=errorsBeta,label='Coma, свертка с '+ r'$\\beta$-моделью',fmt='o',linewidth=0.5,mew=0,color=\"red\")\n",
    "    plt.plot(4*xlist,BetaPlt,label='Бета-модель')\n",
    "    plt.show()\n",
    "    hdul.flush()\n",
    "    hdul.close()"
   ]
  },
  {
   "cell_type": "code",
   "execution_count": 28,
   "metadata": {},
   "outputs": [
    {
     "name": "stdout",
     "output_type": "stream",
     "text": [
      "0.061760803133178395 [0.0617608  0.49277847] [1.31827188 0.43964788]\n"
     ]
    },
    {
     "data": {
      "image/png": "[encoded data removed]",
      "text/plain": [
       "<Figure size 432x288 with 1 Axes>"
      ]
     },
     "metadata": {
      "needs_background": "light"
     },
     "output_type": "display_data"
    }
   ],
   "source": [
    "with fits.open('id11_Coma_mapdld _50_120.fits', mode='update') as hdul:\n",
    "    ResBeta_50_120=translation(hdul,BetaMatr)\n",
    "    radialBeta_50_120,errorsBeta_50_120 =Increase_Curve_Ob(i_center,j_center,hdul,ResBeta_50_120)\n",
    "    print(ResBeta_50_120[ObjectVol][ObjectVol],radialBeta_50_120[0:2],errorsBeta_50_120[0:2])\n",
    "    #Models\n",
    "    r4=range(0,64,4)\n",
    "    xerr4=np.zeros(16)\n",
    "    xlist=np.linspace(0,c,100)\n",
    "    BetaPlt=[1.10229157*Integrate(BetaFunc,x)*76.0411/30.966 for x in xlist]\n",
    "    plt.errorbar(r4, radialBeta_50_120,xerr=xerr4,yerr=errorsBeta,label='Coma, свертка с '+ r'$\\beta$-моделью',fmt='o',linewidth=0.5,mew=0,color=\"red\")\n",
    "    plt.plot(4*xlist,BetaPlt,label='Бета-модель')\n",
    "    plt.show()\n",
    "    hdul.flush()\n",
    "    hdul.close()"
   ]
  },
  {
   "cell_type": "code",
   "execution_count": null,
   "metadata": {},
   "outputs": [],
   "source": []
  },
  {
   "cell_type": "code",
   "execution_count": 22,
   "metadata": {},
   "outputs": [
    {
     "name": "stdout",
     "output_type": "stream",
     "text": [
      "Gauss 2.0639565556459503\n",
      "Beta 1.0983095752823668\n",
      "fpsf 2.0619826\n",
      "epsf 0.17186882\n"
     ]
    }
   ],
   "source": [
    "#17-27\n",
    "with fits.open('id11_Coma_mapdld _17_27.fits', mode='update') as hdul:\n",
    "    ResGaussian=translation(hdul,GaussianMatr)\n",
    "    print(\"Gauss\",ResGaussian[ObjectVol][ObjectVol])\n",
    "    ResBeta=translation(hdul,BetaMatr)\n",
    "    print(\"Beta\",ResBeta[ObjectVol][ObjectVol])\n",
    "    hdul.flush()\n",
    "    hdul.close()\n",
    "\n",
    "\n",
    "with fits.open(\"id11_Coma.fpsf_17_27.fits\", mode='update') as hdul:\n",
    "    print(\"fpsf\",hdul[0].data[i_center][j_center])\n",
    "    hdul.flush()\n",
    "    hdul.close()\n",
    "with fits.open(\"id11_Coma.epsf_17_27.fits\", mode='update') as hdul:\n",
    "    print(\"epsf\",hdul[0].data[i_center][j_center])\n",
    "    epsf_20_27=hdul[0].data[i_center][j_center]\n",
    "    hdul.close()"
   ]
  },
  {
   "cell_type": "code",
   "execution_count": 24,
   "metadata": {},
   "outputs": [
    {
     "name": "stdout",
     "output_type": "stream",
     "text": [
      "Gauss 0.9855810379937192\n",
      "Beta 0.4602202279534317\n",
      "fpsf 0.9856255\n",
      "epsf 0.18955582\n"
     ]
    }
   ],
   "source": [
    "#27-36\n",
    "with fits.open('id11_Coma_mapdld _27_36.fits') as hdul:\n",
    "    ResGaussian=translation(hdul,GaussianMatr)\n",
    "    print(\"Gauss\",ResGaussian[ObjectVol][ObjectVol])\n",
    "    ResBeta=translation(hdul,BetaMatr)\n",
    "    print(\"Beta\",ResBeta[ObjectVol][ObjectVol])\n",
    "    Gauss_20_27=ResGaussian[ObjectVol][ObjectVol]\n",
    "    Beta_20_27=ResBeta[ObjectVol][ObjectVol]\n",
    "    hdul.close()\n",
    "    \n",
    "with fits.open(\"id11_Coma.fpsf_27_36.fits\", mode='update') as hdul:\n",
    "    print(\"fpsf\",hdul[0].data[i_center][j_center])\n",
    "    fpsf_20_27=hdul[0].data[i_center][j_center]\n",
    "    hdul.close()\n",
    "with fits.open(\"id11_Coma.epsf_27_36.fits\", mode='update') as hdul:\n",
    "    print(\"epsf\",hdul[0].data[i_center][j_center])\n",
    "    epsf_20_27=hdul[0].data[i_center][j_center]\n",
    "    hdul.close()\n"
   ]
  },
  {
   "cell_type": "code",
   "execution_count": 26,
   "metadata": {},
   "outputs": [
    {
     "name": "stdout",
     "output_type": "stream",
     "text": [
      "Gauss 0.2726805759677195\n",
      "Beta 0.10330147367671333\n",
      "fpsf 0.27298665\n",
      "epsf 0.20755994\n"
     ]
    }
   ],
   "source": [
    "#36-50\n",
    "with fits.open('id11_Coma_mapdld _36_50.fits') as hdul:\n",
    "    ResGaussian=translation(hdul,GaussianMatr)\n",
    "    print(\"Gauss\",ResGaussian[ObjectVol][ObjectVol])\n",
    "    ResBeta=translation(hdul,BetaMatr)\n",
    "    print(\"Beta\",ResBeta[ObjectVol][ObjectVol])\n",
    "    Gauss_027_036=ResGaussian[ObjectVol][ObjectVol]\n",
    "    Beta_027_036=ResBeta[ObjectVol][ObjectVol]\n",
    "    hdul.close()\n",
    "    \n",
    "with fits.open(\"id11_Coma.fpsf_36_50.fits\", mode='update') as hdul:\n",
    "    print(\"fpsf\",hdul[0].data[i_center][j_center])\n",
    "    fpsf_027_036=hdul[0].data[i_center][j_center]\n",
    "    hdul.close()\n",
    "with fits.open(\"id11_Coma.epsf_36_50.fits\", mode='update') as hdul:\n",
    "    print(\"epsf\",hdul[0].data[i_center][j_center])\n",
    "    epsf_027_036=hdul[0].data[i_center][j_center]\n",
    "    hdul.close()"
   ]
  },
  {
   "cell_type": "code",
   "execution_count": 28,
   "metadata": {},
   "outputs": [
    {
     "name": "stdout",
     "output_type": "stream",
     "text": [
      "Gauss 0.1443695754833776\n",
      "Beta 0.061760803133178395\n",
      "fpsf 0.14401335\n",
      "epsf 0.29815406\n"
     ]
    }
   ],
   "source": [
    "#50_120\n",
    "with fits.open('id11_Coma_mapdld _50_120.fits') as hdul:\n",
    "    ResGaussian=translation(hdul,GaussianMatr)\n",
    "    print(\"Gauss\",ResGaussian[ObjectVol][ObjectVol])\n",
    "    ResBeta=translation(hdul,BetaMatr)\n",
    "    print(\"Beta\",ResBeta[ObjectVol][ObjectVol])\n",
    "    Gauss_036_050=ResGaussian[ObjectVol][ObjectVol]\n",
    "    Beta_036_050=ResBeta[ObjectVol][ObjectVol]\n",
    "    hdul.close()\n",
    "    \n",
    "with fits.open(\"id11_Coma.fpsf_50_120.fits\", mode='update') as hdul:\n",
    "    print(\"fpsf\",hdul[0].data[i_center][j_center])\n",
    "    fpsf_036_050=hdul[0].data[i_center][j_center]\n",
    "    hdul.close()\n",
    "with fits.open(\"id11_Coma.epsf_50_120.fits\", mode='update') as hdul:\n",
    "    print(\"epsf\",hdul[0].data[i_center][j_center])\n",
    "    epsf_036_050=hdul[0].data[i_center][j_center]\n",
    "    hdul.close()"
   ]
  },
  {
   "cell_type": "code",
   "execution_count": 23,
   "metadata": {},
   "outputs": [
    {
     "name": "stdout",
     "output_type": "stream",
     "text": [
      "20-27 Gauss fpsf epsf 0.4070222130686033 0.4046973 0.11570488\n",
      "27-36 Gauss fpsf epsf 0.1546823403745204 0.15256463 0.10617894\n",
      "36-50 Gauss fpsf epsf 0.30417583281988014 0.30286813 0.11027357\n",
      "50-120 Gauss fpsf epsf 0.1022734114065237 0.10088445 0.14124653\n"
     ]
    }
   ],
   "source": [
    "print(\"20-27 Gauss fpsf epsf\",Gauss_20_27,fpsf_20_27,epsf_20_27)\n",
    "print(\"27-36 Gauss fpsf epsf\",Gauss_027_036,fpsf_027_036,epsf_027_036)\n",
    "print(\"36-50 Gauss fpsf epsf\",Gauss_036_050,fpsf_036_050,epsf_036_050)\n",
    "print(\"50-120 Gauss fpsf epsf\",Gauss_050_0120,fpsf_050_0120,epsf_050_0120)"
   ]
  },
  {
   "cell_type": "code",
   "execution_count": 23,
   "metadata": {},
   "outputs": [
    {
     "name": "stdout",
     "output_type": "stream",
     "text": [
      "Increase curve\n",
      "radial Beta [ 1.09830958  9.2059674  22.39005159 34.88300048 45.56542828 56.95460932\n",
      " 63.14288199 67.96589711 70.90095965 72.19360398 73.05095951 73.84279832\n",
      " 75.10632291 76.53076752 77.50392717 78.75248179]\n",
      "errors [0.75977397 0.25344156 0.15205873 0.1133562  0.09156545 0.07285664\n",
      " 0.0631705  0.05476255 0.04821583 0.04356977 0.03940349 0.03640728\n",
      " 0.03347631 0.03084916 0.02883839 0.02742557]\n"
     ]
    },
    {
     "ename": "NameError",
     "evalue": "name 'line1' is not defined",
     "output_type": "error",
     "traceback": [
      "\u001b[0;31m---------------------------------------------------------------------------\u001b[0m",
      "\u001b[0;31mNameError\u001b[0m                                 Traceback (most recent call last)",
      "\u001b[0;32m<ipython-input-23-ca9f4922758f>\u001b[0m in \u001b[0;36m<module>\u001b[0;34m\u001b[0m\n\u001b[1;32m     20\u001b[0m     \u001b[0mplt\u001b[0m\u001b[0;34m.\u001b[0m\u001b[0mxlabel\u001b[0m\u001b[0;34m(\u001b[0m\u001b[0;34m\"Радиус, угл. мин.\"\u001b[0m\u001b[0;34m)\u001b[0m\u001b[0;34m\u001b[0m\u001b[0;34m\u001b[0m\u001b[0m\n\u001b[1;32m     21\u001b[0m     \u001b[0mplt\u001b[0m\u001b[0;34m.\u001b[0m\u001b[0mylabel\u001b[0m\u001b[0;34m(\u001b[0m\u001b[0;34m'Поток, мКраб'\u001b[0m\u001b[0;34m)\u001b[0m\u001b[0;34m\u001b[0m\u001b[0;34m\u001b[0m\u001b[0m\n\u001b[0;32m---> 22\u001b[0;31m     \u001b[0mplt\u001b[0m\u001b[0;34m.\u001b[0m\u001b[0mlegend\u001b[0m\u001b[0;34m(\u001b[0m\u001b[0mhandles\u001b[0m\u001b[0;34m=\u001b[0m\u001b[0;34m(\u001b[0m\u001b[0mline1\u001b[0m\u001b[0;34m,\u001b[0m\u001b[0mline2\u001b[0m\u001b[0;34m,\u001b[0m\u001b[0mline3\u001b[0m\u001b[0;34m,\u001b[0m\u001b[0mline4\u001b[0m\u001b[0;34m)\u001b[0m\u001b[0;34m,\u001b[0m\u001b[0mloc\u001b[0m\u001b[0;34m=\u001b[0m\u001b[0;34m'lower right'\u001b[0m\u001b[0;34m)\u001b[0m\u001b[0;34m\u001b[0m\u001b[0;34m\u001b[0m\u001b[0m\n\u001b[0m\u001b[1;32m     23\u001b[0m     \u001b[0;31m#plt.savefig(\"Increase_curve_circle_f.jpg\",dpi=1000)\u001b[0m\u001b[0;34m\u001b[0m\u001b[0;34m\u001b[0m\u001b[0;34m\u001b[0m\u001b[0m\n\u001b[1;32m     24\u001b[0m     \u001b[0mhdul\u001b[0m\u001b[0;34m.\u001b[0m\u001b[0mflush\u001b[0m\u001b[0;34m(\u001b[0m\u001b[0;34m)\u001b[0m\u001b[0;34m\u001b[0m\u001b[0;34m\u001b[0m\u001b[0m\n",
      "\u001b[0;31mNameError\u001b[0m: name 'line1' is not defined"
     ]
    },
    {
     "data": {
      "image/png": "[encoded data removed]",
      "text/plain": [
       "<Figure size 432x288 with 1 Axes>"
      ]
     },
     "metadata": {
      "needs_background": "light"
     },
     "output_type": "display_data"
    }
   ],
   "source": [
    "print(\"Increase curve\")\n",
    "with fits.open('id11_Coma_mapdld _17_27.fits', mode='update') as hdul:\n",
    "    \n",
    "    r4=range(0,64,4)\n",
    "    xerr4=np.zeros(16)\n",
    "    #Models\n",
    "    xlist=np.linspace(0,c,100)\n",
    "    GaussPlt=[Integrate(lambda s :np.exp(-((s**2/(2*sigma_pix**2))))*76.0411/9.817,x) for x in xlist]\n",
    "    BetaPlt=[1.10229157*Integrate(BetaFunc,x)*76.0411/30.966 for x in xlist]\n",
    "    \n",
    "    #Increase radial Beta\n",
    "    radialBeta,errorsBeta =Increase_Curve_Ob(i_center,j_center,hdul,ResBeta)\n",
    "    print(\"radial Beta\",radialBeta)\n",
    "    print(\"errors\",errorsBeta)\n",
    "    line3=plt.errorbar(r4, radialBeta,xerr=xerr4,yerr=errorsBeta,label='Coma, свертка с '+ r'$\\beta$-моделью',fmt='o',linewidth=0.5,mew=0,color=\"red\")\n",
    "    \n",
    "\n",
    "    \n",
    "    line4, =plt.plot(4*xlist,BetaPlt,label='Бета-модель')\n",
    "    plt.xlabel(\"Радиус, угл. мин.\")\n",
    "    plt.ylabel('Поток, мКраб')\n",
    "    plt.legend(handles=(line1,line2,line3,line4),loc='lower right')\n",
    "    #plt.savefig(\"Increase_curve_circle_f.jpg\",dpi=1000)\n",
    "    hdul.flush()\n",
    "    hdul.close()"
   ]
  },
  {
   "cell_type": "code",
   "execution_count": 23,
   "metadata": {},
   "outputs": [],
   "source": [
    "b1727=9.02038281\n",
    "e1727=0.25344156\n",
    "b2736=3.84335661\n",
    "e2736=0.2795122\n",
    "b3650=0.91777693\n",
    "e3650=0.30606227\n",
    "b50120=0.57434626\n",
    "e50120=0.30606227"
   ]
  },
  {
   "cell_type": "code",
   "execution_count": 406,
   "metadata": {},
   "outputs": [],
   "source": [
    "Vol=51\n",
    "#Vol=7 Gauss\n",
    "#Vol=5 Beta\n",
    "c=(Vol-1)//2\n",
    "\n",
    "ObjectVol=c+1\n",
    "\n",
    "pi=3.14159265359"
   ]
  },
  {
   "cell_type": "code",
   "execution_count": 407,
   "metadata": {},
   "outputs": [
    {
     "name": "stderr",
     "output_type": "stream",
     "text": [
      "WARNING: FITSFixedWarning: RADECSYS= 'FK5 ' / WCS information \n",
      "the RADECSYS keyword is deprecated, use RADESYSa. [astropy.wcs.wcs]\n"
     ]
    }
   ],
   "source": [
    "#Coma\n",
    "#i_borders=(258,264)\n",
    "#j_borders=(259,265)\n",
    "\n",
    "i_center=261\n",
    "j_center=262\n",
    "\n",
    "\n",
    "#194.88,27.951,0.2\n",
    "c1=194.88\n",
    "c2=27.951\n",
    "r=0.2\n",
    "\n",
    "with fits.open('id11_Coma_mapdld _17_27.fits', mode='update') as file:\n",
    "    w=wcs.WCS(file[0].header)\n",
    "    pix_range=np.array([[c1,c2]],dtype=np.float32)\n",
    "    border_pix=w.wcs_world2pix(pix_range,0)\n",
    "j_c_coord=border_pix[0,0]\n",
    "i_c_coord=border_pix[0,1]\n",
    "\n",
    "\n",
    "beta=0.741\n",
    "Rc=10.7/4\n",
    "\n",
    "sigma=5/60\n",
    "sigma_pix=5/4\n",
    "\n",
    "#2.0619826+-0.35\n",
    "#2.0769806083961244"
   ]
  },
  {
   "cell_type": "code",
   "execution_count": 408,
   "metadata": {},
   "outputs": [
    {
     "name": "stdout",
     "output_type": "stream",
     "text": [
      "3.1563437\n"
     ]
    }
   ],
   "source": [
    "with fits.open('id11_Coma_mapdld _17_27.fits', mode='update') as hdul:\n",
    "    print(hdul[0].data[261][262])"
   ]
  },
  {
   "cell_type": "code",
   "execution_count": 409,
   "metadata": {},
   "outputs": [
    {
     "name": "stdout",
     "output_type": "stream",
     "text": [
      "(235, 287) (236, 288) 261 262\n"
     ]
    }
   ],
   "source": [
    "print(i_borders,j_borders,i_center,j_center)"
   ]
  },
  {
   "cell_type": "code",
   "execution_count": 410,
   "metadata": {},
   "outputs": [],
   "source": [
    "i_borders=(i_center-ObjectVol,i_center+ObjectVol)\n",
    "j_borders=(j_center-ObjectVol,j_center+ObjectVol)"
   ]
  },
  {
   "cell_type": "code",
   "execution_count": 411,
   "metadata": {},
   "outputs": [],
   "source": [
    "#gaussian\n",
    "def gaussian(x,y):\n",
    "    return np.exp(-(x**2/(2*sigma**2)+y**2/(2*sigma**2)))/(2*pi*sigma**2)\n",
    "\n",
    "GaussianMatr=np.zeros((Vol,Vol))\n",
    "coefGauss=0;\n",
    "for i in range(0,Vol):\n",
    "    for j in range(0,Vol):\n",
    "        value=np.exp(-((i-c)**2/(2*sigma_pix**2)+(j-c)**2/(2*sigma_pix**2)))\n",
    "        GaussianMatr[i][j]=value\n",
    "        coefGauss+=value\n",
    "GaussianMatr/=coefGauss"
   ]
  },
  {
   "cell_type": "code",
   "execution_count": 412,
   "metadata": {},
   "outputs": [],
   "source": [
    "#Beta\n",
    "def BetaFunc(R):\n",
    "    return (1+(R/Rc)**2)**(0.5-3*beta)\n",
    "\n",
    "BetaMatr=np.zeros((Vol,Vol))\n",
    "coefBeta=0;\n",
    "for i in range(0,Vol):\n",
    "    for j in range(0,Vol):\n",
    "        value=BetaFunc(np.sqrt((i-c)**2+(j-c)**2))\n",
    "        BetaMatr[i][j]=value\n",
    "        coefBeta+=value\n",
    "BetaMatr/=coefBeta"
   ]
  },
  {
   "cell_type": "code",
   "execution_count": 413,
   "metadata": {},
   "outputs": [
    {
     "data": {
      "text/plain": [
       "<matplotlib.image.AxesImage at 0x7fcf18ba5f60>"
      ]
     },
     "execution_count": 413,
     "metadata": {},
     "output_type": "execute_result"
    },
    {
     "data": {
      "image/png": "[encoded data removed]",
      "text/plain": [
       "<Figure size 432x288 with 1 Axes>"
      ]
     },
     "metadata": {
      "needs_background": "light"
     },
     "output_type": "display_data"
    }
   ],
   "source": [
    "EqualMatr=np.zeros((Vol,Vol))\n",
    "EqualMatr[c][c]=1\n",
    "plt.imshow(EqualMatr)"
   ]
  },
  {
   "cell_type": "code",
   "execution_count": 414,
   "metadata": {},
   "outputs": [],
   "source": [
    "def trans(i0,j0,file,Matr):\n",
    "    value=0\n",
    "    for i in range(i0-c,i0+c+1):\n",
    "        for j in range(j0-c,j0+c+1):\n",
    "            value+=file[0].data[i][j]*Matr[i-i0+c][j-j0+c]\n",
    "    return value\n",
    "\n",
    "def translation(file,Matrix):\n",
    "    ResultMatrix=np.zeros((2*ObjectVol+1,2*ObjectVol+1))\n",
    "    for i in range(i_borders[0],i_borders[1]+1):\n",
    "        for j in range(j_borders[0],j_borders[1]+1):\n",
    "            #ResultMatrix[i-i_borders[0]][j-j_borders[0]]=file[0].data[i][j]\n",
    "            ResultMatrix[i-i_borders[0]][j-j_borders[0]]=trans(i,j,file,Matrix)\n",
    "    #ResultMatrix*=FluxBefore/FluxAfter\n",
    "    return ResultMatrix"
   ]
  },
  {
   "cell_type": "code",
   "execution_count": null,
   "metadata": {},
   "outputs": [],
   "source": []
  },
  {
   "cell_type": "code",
   "execution_count": 415,
   "metadata": {},
   "outputs": [],
   "source": [
    "def Increase_Curve(i0,j0,file,Matr):\n",
    "    radial=np.zeros(c+1)\n",
    "    errors=np.zeros(c+1)\n",
    "    counter=np.zeros(c+1)\n",
    "    pix_size=4/60\n",
    "    for i in range(0,Vol):\n",
    "        for j in range(0,Vol):\n",
    "            distance=np.sqrt((i-c)**2+(j-c)**2)\n",
    "            if(distance<c+1):\n",
    "                radial[int(distance)]+=Matr[i][j]\n",
    "                errors[int(distance)]+=file[1].data[i0-c+i][j0-c+j]**2\n",
    "                counter[int(distance)]+=1\n",
    "    for i in range(1,c+1):\n",
    "        radial[i]+=radial[i-1]\n",
    "        counter[i]+=counter[i-1]\n",
    "        errors[i]+=errors[i-1]\n",
    "    errors=np.sqrt(errors)/counter\n",
    "    return radial,errors "
   ]
  },
  {
   "cell_type": "code",
   "execution_count": 416,
   "metadata": {},
   "outputs": [],
   "source": [
    "def Increase_Curve_Ob(i0,j0,file,Matr):\n",
    "    radial=np.zeros(c+1)\n",
    "    errors=np.zeros(c+1)\n",
    "    counter=np.zeros(c+1)\n",
    "    pix_size=4/60\n",
    "    for i in range(0,Vol):\n",
    "        for j in range(0,Vol):\n",
    "            distance=np.sqrt((i-ObjectVol)**2+(j-ObjectVol)**2)\n",
    "            if(distance<c+1):\n",
    "                radial[int(distance)]+=Matr[i][j]\n",
    "                errors[int(distance)]+=file[1].data[i0-ObjectVol+i][j0-ObjectVol+j]**2\n",
    "                counter[int(distance)]+=1\n",
    "    for i in range(1,c+1):\n",
    "        radial[i]+=radial[i-1]\n",
    "        counter[i]+=counter[i-1]\n",
    "        errors[i]+=errors[i-1]\n",
    "    #errors=np.sqrt(errors)/counter\n",
    "    errors=np.sqrt(errors)\n",
    "    return radial,errors "
   ]
  },
  {
   "cell_type": "code",
   "execution_count": 417,
   "metadata": {},
   "outputs": [],
   "source": [
    "def Increase_Curve_Matr(i0,j0,Matr):\n",
    "    radial=np.zeros(c+1)\n",
    "    counter=np.zeros(c+1)\n",
    "    pix_size=4/60\n",
    "    for i in range(0,Vol):\n",
    "        for j in range(0,Vol):\n",
    "            distance=np.sqrt((i-ObjectVol)**2+(j-ObjectVol)**2)\n",
    "            if(distance<c+1):\n",
    "                radial[int(distance)]+=Matr[i][j]\n",
    "                counter[int(distance)]+=1\n",
    "    for i in range(1,c+1):\n",
    "        radial[i]+=radial[i-1]\n",
    "        counter[i]+=counter[i-1]\n",
    "    return radial"
   ]
  },
  {
   "cell_type": "code",
   "execution_count": 418,
   "metadata": {},
   "outputs": [],
   "source": [
    "def Radial_prof(i0,j0,file,Matr):\n",
    "    radial=np.zeros(c+1)\n",
    "    errors=np.zeros(c+1)\n",
    "    counter=np.zeros(c+1)\n",
    "    pix_size=4/60\n",
    "    for i in range(0,Vol):\n",
    "        for j in range(0,Vol):\n",
    "            distance=np.sqrt((i-ObjectVol)**2+(j-ObjectVol)**2)\n",
    "            if(distance<c+1):\n",
    "                radial[int(distance)]+=Matr[i][j]\n",
    "                errors[int(distance)]+=file[1].data[i0-ObjectVol+i][j0-ObjectVol+j]**2\n",
    "                counter[int(distance)]+=1\n",
    "    radial=radial/counter\n",
    "    errors=np.sqrt(errors)/counter\n",
    "    return radial,errors "
   ]
  },
  {
   "cell_type": "code",
   "execution_count": 281,
   "metadata": {},
   "outputs": [
    {
     "name": "stdout",
     "output_type": "stream",
     "text": [
      "Radial prof\n"
     ]
    },
    {
     "data": {
      "image/png": "[encoded data removed]",
      "text/plain": [
       "<Figure size 432x288 with 1 Axes>"
      ]
     },
     "metadata": {
      "needs_background": "light"
     },
     "output_type": "display_data"
    }
   ],
   "source": [
    "print(\"Radial prof\")\n",
    "with fits.open('id11_Coma_mapdld _17_27.fits', mode='update') as hdul:\n",
    "    \n",
    "    radialEqual1727,errorsEqual1727 =Radial_prof(i_center,j_center,hdul,ResEqual1727)\n",
    "    r4=range(0,4*len(radialEqual1727),4)\n",
    "    xerr4=4*(np.ones_like(radialEqual1727))/2\n",
    "    x_gaus=np.linspace(0,r4[-1],1000)\n",
    "    y_gaus=np.exp(-(x_gaus**2/(2*5**2)))*radialEqual1727[0]\n",
    "    y_beta=((1+(x_gaus/10.7)**2)**(-3*beta+0.5))*radialEqual1727[0]\n",
    "    q=20\n",
    "    plt.plot(x_gaus[0:int(q*1000/26)],y_gaus[0:int(q*1000/26)],label='PSF',color='black',linewidth=0.7,)\n",
    "    #plt.plot(x_gaus,y_beta)\n",
    "    plt.errorbar(r4[0:q], radialEqual1727[0:q],xerr=xerr4[0:q],yerr=errorsEqual1727[0:q],fmt='o',linewidth=0.5,mew=0,color=\"blue\",label='Радиальный профиль')\n",
    "    plt.legend(loc='upper right')\n",
    "    plt.xlabel(\"Радиус, угл. мин.\")\n",
    "    plt.ylabel('Поток, мКраб')\n",
    "    #plt.savefig(\"Radial_profile_fin.jpg\",dpi=1000)\n",
    "    hdul.flush()\n",
    "    hdul.close()"
   ]
  },
  {
   "cell_type": "code",
   "execution_count": 243,
   "metadata": {},
   "outputs": [
    {
     "data": {
      "text/plain": [
       "[<matplotlib.lines.Line2D at 0x7fcf1a0eed30>]"
      ]
     },
     "execution_count": 243,
     "metadata": {},
     "output_type": "execute_result"
    },
    {
     "data": {
      "image/png": "[encoded data removed]",
      "text/plain": [
       "<Figure size 432x288 with 1 Axes>"
      ]
     },
     "metadata": {
      "needs_background": "light"
     },
     "output_type": "display_data"
    }
   ],
   "source": [
    "plt.plot(y_gaus)"
   ]
  },
  {
   "cell_type": "code",
   "execution_count": 264,
   "metadata": {},
   "outputs": [
    {
     "data": {
      "text/plain": [
       "[<matplotlib.lines.Line2D at 0x7fcf1ac57320>]"
      ]
     },
     "execution_count": 264,
     "metadata": {},
     "output_type": "execute_result"
    },
    {
     "data": {
      "image/png": "[encoded data removed]",
      "text/plain": [
       "<Figure size 432x288 with 1 Axes>"
      ]
     },
     "metadata": {
      "needs_background": "light"
     },
     "output_type": "display_data"
    }
   ],
   "source": [
    "IncBeta=np.zeros_like(x_gaus)\n",
    "IncBeta[0]=y_beta[0]\n",
    "for i in range(0,len(y_beta)):\n",
    "    IncBeta[i]=y_beta[i]*2*np.pi*x_gaus[i]\n",
    "for i in range(1,len(y_beta)):\n",
    "    IncBeta[i]=y_beta[i]+IncBeta[i-1]\n",
    "plt.plot(IncBeta)"
   ]
  },
  {
   "cell_type": "code",
   "execution_count": 265,
   "metadata": {},
   "outputs": [
    {
     "data": {
      "text/plain": [
       "[<matplotlib.lines.Line2D at 0x7fcf1a3ff748>]"
      ]
     },
     "execution_count": 265,
     "metadata": {},
     "output_type": "execute_result"
    },
    {
     "data": {
      "image/png": "[encoded data removed]",
      "text/plain": [
       "<Figure size 432x288 with 1 Axes>"
      ]
     },
     "metadata": {
      "needs_background": "light"
     },
     "output_type": "display_data"
    }
   ],
   "source": [
    "IncGauss=np.zeros_like(x_gaus)\n",
    "IncGauss[0]=y_gaus[0]\n",
    "for i in range(0,len(y_beta)):\n",
    "    IncGauss[i]=y_gaus[i]*2*np.pi*x_gaus[i]\n",
    "for i in range(1,len(y_beta)):\n",
    "    IncGauss[i]=y_gaus[i]+IncGauss[i-1]\n",
    "plt.plot(IncGauss)"
   ]
  },
  {
   "cell_type": "code",
   "execution_count": 405,
   "metadata": {},
   "outputs": [
    {
     "name": "stdout",
     "output_type": "stream",
     "text": [
      "Increase curve\n"
     ]
    },
    {
     "ename": "IndexError",
     "evalue": "index 33 is out of bounds for axis 0 with size 33",
     "output_type": "error",
     "traceback": [
      "\u001b[0;31m---------------------------------------------------------------------------\u001b[0m",
      "\u001b[0;31mIndexError\u001b[0m                                Traceback (most recent call last)",
      "\u001b[0;32m<ipython-input-405-4181bd4adea8>\u001b[0m in \u001b[0;36m<module>\u001b[0;34m\u001b[0m\n\u001b[1;32m      2\u001b[0m \u001b[0;32mwith\u001b[0m \u001b[0mfits\u001b[0m\u001b[0;34m.\u001b[0m\u001b[0mopen\u001b[0m\u001b[0;34m(\u001b[0m\u001b[0;34m'id11_Coma_mapdld _17_27.fits'\u001b[0m\u001b[0;34m,\u001b[0m \u001b[0mmode\u001b[0m\u001b[0;34m=\u001b[0m\u001b[0;34m'update'\u001b[0m\u001b[0;34m)\u001b[0m \u001b[0;32mas\u001b[0m \u001b[0mhdul\u001b[0m\u001b[0;34m:\u001b[0m\u001b[0;34m\u001b[0m\u001b[0;34m\u001b[0m\u001b[0m\n\u001b[1;32m      3\u001b[0m \u001b[0;34m\u001b[0m\u001b[0m\n\u001b[0;32m----> 4\u001b[0;31m     \u001b[0mradialEqual1727\u001b[0m\u001b[0;34m,\u001b[0m\u001b[0merrorsEqual1727\u001b[0m \u001b[0;34m=\u001b[0m\u001b[0mIncrease_Curve_Ob\u001b[0m\u001b[0;34m(\u001b[0m\u001b[0mi_center\u001b[0m\u001b[0;34m,\u001b[0m\u001b[0mj_center\u001b[0m\u001b[0;34m,\u001b[0m\u001b[0mhdul\u001b[0m\u001b[0;34m,\u001b[0m\u001b[0mResEqual1727\u001b[0m\u001b[0;34m)\u001b[0m\u001b[0;34m\u001b[0m\u001b[0;34m\u001b[0m\u001b[0m\n\u001b[0m\u001b[1;32m      5\u001b[0m     \u001b[0mbeta_r\u001b[0m\u001b[0;34m=\u001b[0m\u001b[0mIncrease_Curve_Ob\u001b[0m\u001b[0;34m(\u001b[0m\u001b[0mi_center\u001b[0m\u001b[0;34m,\u001b[0m\u001b[0mj_center\u001b[0m\u001b[0;34m,\u001b[0m\u001b[0mhdul\u001b[0m\u001b[0;34m,\u001b[0m\u001b[0mResEqual1727\u001b[0m\u001b[0;34m)\u001b[0m\u001b[0;34m\u001b[0m\u001b[0;34m\u001b[0m\u001b[0m\n\u001b[1;32m      6\u001b[0m     \u001b[0mr4\u001b[0m\u001b[0;34m=\u001b[0m\u001b[0mrange\u001b[0m\u001b[0;34m(\u001b[0m\u001b[0;36m0\u001b[0m\u001b[0;34m,\u001b[0m\u001b[0;36m4\u001b[0m\u001b[0;34m*\u001b[0m\u001b[0mlen\u001b[0m\u001b[0;34m(\u001b[0m\u001b[0mradialEqual1727\u001b[0m\u001b[0;34m)\u001b[0m\u001b[0;34m,\u001b[0m\u001b[0;36m4\u001b[0m\u001b[0;34m)\u001b[0m\u001b[0;34m\u001b[0m\u001b[0;34m\u001b[0m\u001b[0m\n",
      "\u001b[0;32m<ipython-input-305-9c4992cedf95>\u001b[0m in \u001b[0;36mIncrease_Curve_Ob\u001b[0;34m(i0, j0, file, Matr)\u001b[0m\n\u001b[1;32m      8\u001b[0m             \u001b[0mdistance\u001b[0m\u001b[0;34m=\u001b[0m\u001b[0mnp\u001b[0m\u001b[0;34m.\u001b[0m\u001b[0msqrt\u001b[0m\u001b[0;34m(\u001b[0m\u001b[0;34m(\u001b[0m\u001b[0mi\u001b[0m\u001b[0;34m-\u001b[0m\u001b[0mObjectVol\u001b[0m\u001b[0;34m)\u001b[0m\u001b[0;34m**\u001b[0m\u001b[0;36m2\u001b[0m\u001b[0;34m+\u001b[0m\u001b[0;34m(\u001b[0m\u001b[0mj\u001b[0m\u001b[0;34m-\u001b[0m\u001b[0mObjectVol\u001b[0m\u001b[0;34m)\u001b[0m\u001b[0;34m**\u001b[0m\u001b[0;36m2\u001b[0m\u001b[0;34m)\u001b[0m\u001b[0;34m\u001b[0m\u001b[0;34m\u001b[0m\u001b[0m\n\u001b[1;32m      9\u001b[0m             \u001b[0;32mif\u001b[0m\u001b[0;34m(\u001b[0m\u001b[0mdistance\u001b[0m\u001b[0;34m<\u001b[0m\u001b[0mc\u001b[0m\u001b[0;34m+\u001b[0m\u001b[0;36m1\u001b[0m\u001b[0;34m)\u001b[0m\u001b[0;34m:\u001b[0m\u001b[0;34m\u001b[0m\u001b[0;34m\u001b[0m\u001b[0m\n\u001b[0;32m---> 10\u001b[0;31m                 \u001b[0mradial\u001b[0m\u001b[0;34m[\u001b[0m\u001b[0mint\u001b[0m\u001b[0;34m(\u001b[0m\u001b[0mdistance\u001b[0m\u001b[0;34m)\u001b[0m\u001b[0;34m]\u001b[0m\u001b[0;34m+=\u001b[0m\u001b[0mMatr\u001b[0m\u001b[0;34m[\u001b[0m\u001b[0mi\u001b[0m\u001b[0;34m]\u001b[0m\u001b[0;34m[\u001b[0m\u001b[0mj\u001b[0m\u001b[0;34m]\u001b[0m\u001b[0;34m\u001b[0m\u001b[0;34m\u001b[0m\u001b[0m\n\u001b[0m\u001b[1;32m     11\u001b[0m                 \u001b[0merrors\u001b[0m\u001b[0;34m[\u001b[0m\u001b[0mint\u001b[0m\u001b[0;34m(\u001b[0m\u001b[0mdistance\u001b[0m\u001b[0;34m)\u001b[0m\u001b[0;34m]\u001b[0m\u001b[0;34m+=\u001b[0m\u001b[0mfile\u001b[0m\u001b[0;34m[\u001b[0m\u001b[0;36m1\u001b[0m\u001b[0;34m]\u001b[0m\u001b[0;34m.\u001b[0m\u001b[0mdata\u001b[0m\u001b[0;34m[\u001b[0m\u001b[0mi0\u001b[0m\u001b[0;34m-\u001b[0m\u001b[0mObjectVol\u001b[0m\u001b[0;34m+\u001b[0m\u001b[0mi\u001b[0m\u001b[0;34m]\u001b[0m\u001b[0;34m[\u001b[0m\u001b[0mj0\u001b[0m\u001b[0;34m-\u001b[0m\u001b[0mObjectVol\u001b[0m\u001b[0;34m+\u001b[0m\u001b[0mj\u001b[0m\u001b[0;34m]\u001b[0m\u001b[0;34m**\u001b[0m\u001b[0;36m2\u001b[0m\u001b[0;34m\u001b[0m\u001b[0;34m\u001b[0m\u001b[0m\n\u001b[1;32m     12\u001b[0m                 \u001b[0mcounter\u001b[0m\u001b[0;34m[\u001b[0m\u001b[0mint\u001b[0m\u001b[0;34m(\u001b[0m\u001b[0mdistance\u001b[0m\u001b[0;34m)\u001b[0m\u001b[0;34m]\u001b[0m\u001b[0;34m+=\u001b[0m\u001b[0;36m1\u001b[0m\u001b[0;34m\u001b[0m\u001b[0;34m\u001b[0m\u001b[0m\n",
      "\u001b[0;31mIndexError\u001b[0m: index 33 is out of bounds for axis 0 with size 33"
     ]
    }
   ],
   "source": [
    "print(\"Increase curve\")\n",
    "with fits.open('id11_Coma_mapdld _17_27.fits', mode='update') as hdul:\n",
    "    \n",
    "    radialEqual1727,errorsEqual1727 =Increase_Curve_Ob(i_center,j_center,hdul,ResEqual1727)\n",
    "    beta_r=Increase_Curve_Ob(i_center,j_center,hdul,ResEqual1727)\n",
    "    r4=range(0,4*len(radialEqual1727),4)\n",
    "    xerr4=4*(np.ones_like(radialEqual1727))/2\n",
    "    \n",
    "    c1=radialEqual1727[-2]/IncGauss[-2]\n",
    "    c2=radialEqual1727[-2]/IncBeta[-2]\n",
    "    q=30\n",
    "    line1=plt.errorbar(r4[0:q], radialEqual1727[0:q],xerr=xerr4[0:q],yerr=errorsEqual1727[0:q],fmt='o',linewidth=0.5,mew=0,color=\"blue\",label='Кривая роста')\n",
    "    line2=plt.errorbar(r4, radialBeta1727,xerr=xerr4,yerr=errorsEqual1727,fmt='o',linewidth=0.5,mew=0,color=\"orange\",label='fold')\n",
    "    #line3, =plt.plot(x_gaus[0:int(q*1000/26)],IncGauss[0:int(q*1000/26)]*c1,label='PSF')\n",
    "    #line4, =plt.plot(x_gaus[0:int(q*1000/26)],IncBeta[0:int(q*1000/26)]*c2,label=r'$\\beta$-модель')\n",
    "    plt.xlabel(\"Радиус, угл. мин.\")\n",
    "    plt.ylabel('Поток, мКраб')\n",
    "    plt.legend(loc='lower right')\n",
    "    #plt.gca().axis([0,80,0,90])\n",
    "    #plt.savefig(\"Increase_curve_fin.jpg\",dpi=1000)\n",
    "    hdul.flush()\n",
    "    hdul.close()"
   ]
  },
  {
   "cell_type": "code",
   "execution_count": 385,
   "metadata": {},
   "outputs": [
    {
     "data": {
      "image/png": "[encoded data removed]",
      "text/plain": [
       "<Figure size 432x288 with 2 Axes>"
      ]
     },
     "metadata": {
      "needs_background": "light"
     },
     "output_type": "display_data"
    }
   ],
   "source": [
    "plt.imshow(ResEqual1727,cmap='hot',interpolation='none',extent=[-60,60,-60,60])\n",
    "cbl=plt.colorbar()\n",
    "cbl.set_ticks([-1,0,1,2,3])\n",
    "plt.gca().get_yaxis().set_visible(False)\n",
    "plt.gca().set_xticks([-60,-30,0,30, 60])\n",
    "#plt.gca().get_xaxis().set_visible(False)\n",
    "plt.xlabel(\"угл. мин.\")\n",
    "#plt.gca().get_yaxis().set_visible(False)\n",
    "#plt.savefig(\"original_coma_picture.jpg\",dpi=1000)"
   ]
  },
  {
   "cell_type": "code",
   "execution_count": 386,
   "metadata": {},
   "outputs": [
    {
     "name": "stderr",
     "output_type": "stream",
     "text": [
      "/home/sdd/anaconda3/lib/python3.7/site-packages/ipykernel_launcher.py:31: UserWarning: Use the colorbar set_ticks() method instead.\n"
     ]
    },
    {
     "data": {
      "image/png": "[encoded data removed]",
      "text/plain": [
       "<Figure size 720x720 with 4 Axes>"
      ]
     },
     "metadata": {
      "needs_background": "light"
     },
     "output_type": "display_data"
    }
   ],
   "source": [
    "\n",
    "from mpl_toolkits.axes_grid1.inset_locator import inset_axes\n",
    "from mpl_toolkits.axes_grid1 import make_axes_locatable\n",
    "f,axarr=plt.subplots(1,2,figsize=(10,10))\n",
    "left=axarr[0].imshow(ResEqual1727,cmap='hot',interpolation='none',extent=[-60,60,-60,60])\n",
    "#f.colorbar(left)\n",
    "right=axarr[1].imshow(ResBeta1727,cmap='hot',interpolation='none',extent=[-60,60,-60,60])\n",
    "#f.colorbar(right)\n",
    "#left=axarr[0].imshow(ResEqual1727,cmap='hot',interpolation='none',extent=[-60,60,-60,60],vmin=ResEqual1727.min(),vmax=ResEqual1727.max())\n",
    "#right=axarr[1].imshow(ResBeta1727,cmap='hot',interpolation='none',extent=[-60,60,-60,60],vmin=ResEqual1727.min(),vmax=ResEqual1727.max())\n",
    "#axarr[0].axes.get_xaxis().set_visible(False)\n",
    "axarr[0].axes.get_yaxis().set_visible(False)\n",
    "#axarr[1].axes.get_xaxis().set_visible(False)\n",
    "axarr[1].axes.get_yaxis().set_visible(False)\n",
    "\n",
    "axarr[1].axes.set_xlabel(\"угл. мин.\")\n",
    "axarr[0].axes.set_xlabel(\"угл. мин.\")\n",
    "\n",
    "\n",
    "axarr[0].set_xticks([-60,-30,0,30, 60])\n",
    "axarr[1].set_xticks([-60,-30,0,30, 60])\n",
    "\n",
    "#ax=f.gca()\n",
    "divider0=make_axes_locatable(axarr[0])\n",
    "divider1=make_axes_locatable(axarr[1])\n",
    "cax0=divider0.append_axes(\"left\",size=\"5%\",pad=0.1)\n",
    "cax1=divider1.append_axes(\"right\",size=\"5%\",pad=0.1)\n",
    "cbl=f.colorbar(left,cax=cax0)\n",
    "cax0.yaxis.tick_left()\n",
    "cbl.set_ticks([-1,0,1,2,3])\n",
    "#cbar.set_ticklabels([mn,md,mx])\n",
    "cax0.set_yticks([-1, 0, 2, 3])\n",
    "cbr=f.colorbar(right,cax=cax1)\n",
    "cbr.set_ticks([0,0.25,0.5,0.75,1])\n",
    "#plt.savefig(\"Coma_2_image.jpg\",dpi=1000)\n"
   ]
  },
  {
   "cell_type": "code",
   "execution_count": 325,
   "metadata": {},
   "outputs": [
    {
     "data": {
      "text/plain": [
       "-1.2263954877853394"
      ]
     },
     "execution_count": 325,
     "metadata": {},
     "output_type": "execute_result"
    }
   ],
   "source": [
    "ResEqual1727.min()"
   ]
  },
  {
   "cell_type": "code",
   "execution_count": 329,
   "metadata": {},
   "outputs": [
    {
     "data": {
      "text/plain": [
       "3.156343698501587"
      ]
     },
     "execution_count": 329,
     "metadata": {},
     "output_type": "execute_result"
    }
   ],
   "source": [
    "ResEqual1727.max()"
   ]
  },
  {
   "cell_type": "code",
   "execution_count": null,
   "metadata": {},
   "outputs": [],
   "source": [
    "f,axarr=plt.subplots(1,2)\n",
    "left=axarr[0].imshow(ResEqual1727,cmap='hot')\n",
    "right=axarr[1].imshow(ResBeta1727,cmap='hot')\n",
    "axarr[0].axes.get_xaxis().set_visible(False)\n",
    "axarr[0].axes.get_yaxis().set_visible(False)\n",
    "axarr[1].axes.get_xaxis().set_visible(False)\n",
    "axarr[1].axes.get_yaxis().set_visible(False)\n",
    "#ax=f.gca()\n",
    "#divider=make_axes_locatable(ax)\n",
    "#cax=divider.append_axes(\"right\",size=\"5%\",pad=0.1)\n",
    "#f.colorbar(left,cax=cax)\n",
    "#plt.savefig(\"Coma_image.jpg\",dpi=1000)"
   ]
  },
  {
   "cell_type": "code",
   "execution_count": 402,
   "metadata": {},
   "outputs": [
    {
     "data": {
      "text/plain": [
       "<matplotlib.legend.Legend at 0x7fcf135d3668>"
      ]
     },
     "execution_count": 402,
     "metadata": {},
     "output_type": "execute_result"
    },
    {
     "data": {
      "image/png": "[encoded data removed]",
      "text/plain": [
       "<Figure size 432x288 with 1 Axes>"
      ]
     },
     "metadata": {
      "needs_background": "light"
     },
     "output_type": "display_data"
    }
   ],
   "source": [
    "c1=radialBeta1727[-2]/IncGauss[-2]\n",
    "c2=radialBeta1727[-1]/IncBeta[-1]\n",
    "q=20\n",
    "#line1=plt.errorbar(r4[0:q], radialEqual1727[0:q],xerr=xerr4[0:q],yerr=errorsEqual1727[0:q],fmt='o',linewidth=0.5,mew=0,color=\"blue\",label='Coma')\n",
    "line2=plt.errorbar(r4[0:q], radialBeta1727[0:q],xerr=xerr4[0:q],yerr=errorsEqual1727[0:q],fmt='o',linewidth=0.5,mew=0,color=\"orange\",label='fold')\n",
    "#line3, =plt.plot(x_gaus[0:int(q*1000/26)],IncGauss[0:int(q*1000/26)]*c1,label='PSF')\n",
    "line4, =plt.plot(x_gaus[0:int(q*1000/34)],IncBeta[0:int(q*1000/34)]*c2,label='Бета-модель')\n",
    "plt.xlabel(\"Радиус, угл. мин.\")\n",
    "plt.ylabel('Поток, мКраб')\n",
    "plt.legend(loc='lower right')"
   ]
  },
  {
   "cell_type": "code",
   "execution_count": 441,
   "metadata": {},
   "outputs": [
    {
     "name": "stdout",
     "output_type": "stream",
     "text": [
      "Increase curve\n"
     ]
    },
    {
     "data": {
      "image/png": "[encoded data removed]",
      "text/plain": [
       "<Figure size 432x288 with 1 Axes>"
      ]
     },
     "metadata": {
      "needs_background": "light"
     },
     "output_type": "display_data"
    }
   ],
   "source": [
    "print(\"Increase curve\")\n",
    "with fits.open('id11_Coma_mapdld _17_27.fits', mode='update') as hdul:\n",
    "    \n",
    "    #radialBeta1727,errorsEqual1727 =Increase_Curve_Ob(i_center,j_center,hdul,ResBeta1727)\n",
    "    #beta_r=Increase_Curve_Ob(i_center,j_center,hdul,ResEqual1727)\n",
    "    r4=range(0,4*len(radialBeta1727),4)\n",
    "    xerr4=4*(np.ones_like(radialBeta1727))/2\n",
    "    #Models\n",
    "    xlist=np.linspace(0,r4[-1],100)\n",
    "    #GaussPlt=[Integrate(lambda s :np.exp(-((s**2/(2*5**2)))),x)*84.21856383871636/157.07963294128714 for x in xlist]\n",
    "    #BetaPlt=[Integrate(BetaFunc_ang,x)*78.24793637502053/477.99932228205574 for x in xlist]\n",
    "    \n",
    "    #line1=plt.errorbar(r4, radialEqual1727,xerr=xerr4,yerr=errorsEqual1727,fmt='o',linewidth=0.5,mew=0,color=\"blue\",label='Coma')\n",
    "    line2=plt.errorbar(r4[0:q], radialBeta1727[0:q],xerr=xerr4[0:q],yerr=errorsEqual1727[0:q],fmt='o',linewidth=0.5,mew=0,label='Кривая роста')\n",
    "    #line3, =plt.plot(xlist,GaussPlt,label='PSF')\n",
    "    line4, =plt.plot(xlist[0:76],BetaPlt[0:76],label=r'$\\beta$-модель')\n",
    "    plt.xlabel(\"Радиус, угл. мин.\")\n",
    "    plt.ylabel('Поток, мКраб')\n",
    "    plt.legend(loc='lower right')\n",
    "    #plt.gca().axis([0,80,0,90])\n",
    "    #plt.savefig(\"Increase_curve_filtered.jpg\",dpi=1000)\n",
    "    hdul.flush()\n",
    "    hdul.close()"
   ]
  },
  {
   "cell_type": "code",
   "execution_count": 432,
   "metadata": {},
   "outputs": [
    {
     "data": {
      "text/plain": [
       "100"
      ]
     },
     "execution_count": 432,
     "metadata": {},
     "output_type": "execute_result"
    }
   ],
   "source": [
    "len(BetaPlt)"
   ]
  },
  {
   "cell_type": "code",
   "execution_count": 425,
   "metadata": {},
   "outputs": [
    {
     "data": {
      "text/plain": [
       "78.24793637502053"
      ]
     },
     "execution_count": 425,
     "metadata": {},
     "output_type": "execute_result"
    }
   ],
   "source": [
    "radialBeta1727[-1]"
   ]
  },
  {
   "cell_type": "code",
   "execution_count": 421,
   "metadata": {},
   "outputs": [
    {
     "data": {
      "text/plain": [
       "(33, 33)"
      ]
     },
     "execution_count": 421,
     "metadata": {},
     "output_type": "execute_result"
    }
   ],
   "source": [
    "ResEqual1727.shape"
   ]
  },
  {
   "cell_type": "code",
   "execution_count": 404,
   "metadata": {},
   "outputs": [
    {
     "ename": "ValueError",
     "evalue": "x and y must have same first dimension, but have shapes (16,) and (26,)",
     "output_type": "error",
     "traceback": [
      "\u001b[0;31m---------------------------------------------------------------------------\u001b[0m",
      "\u001b[0;31mValueError\u001b[0m                                Traceback (most recent call last)",
      "\u001b[0;32m<ipython-input-404-4510f0463a5b>\u001b[0m in \u001b[0;36m<module>\u001b[0;34m\u001b[0m\n\u001b[1;32m      2\u001b[0m \u001b[0mline2\u001b[0m\u001b[0;34m=\u001b[0m\u001b[0mplt\u001b[0m\u001b[0;34m.\u001b[0m\u001b[0merrorbar\u001b[0m\u001b[0;34m(\u001b[0m\u001b[0mr4\u001b[0m\u001b[0;34m,\u001b[0m \u001b[0mradialBeta1727\u001b[0m\u001b[0;34m,\u001b[0m\u001b[0mxerr\u001b[0m\u001b[0;34m=\u001b[0m\u001b[0mxerr4\u001b[0m\u001b[0;34m,\u001b[0m\u001b[0myerr\u001b[0m\u001b[0;34m=\u001b[0m\u001b[0merrorsEqual1727\u001b[0m\u001b[0;34m,\u001b[0m\u001b[0mfmt\u001b[0m\u001b[0;34m=\u001b[0m\u001b[0;34m'o'\u001b[0m\u001b[0;34m,\u001b[0m\u001b[0mlinewidth\u001b[0m\u001b[0;34m=\u001b[0m\u001b[0;36m0.5\u001b[0m\u001b[0;34m,\u001b[0m\u001b[0mmew\u001b[0m\u001b[0;34m=\u001b[0m\u001b[0;36m0\u001b[0m\u001b[0;34m,\u001b[0m\u001b[0mcolor\u001b[0m\u001b[0;34m=\u001b[0m\u001b[0;34m\"orange\"\u001b[0m\u001b[0;34m,\u001b[0m\u001b[0mlabel\u001b[0m\u001b[0;34m=\u001b[0m\u001b[0;34m'fold'\u001b[0m\u001b[0;34m)\u001b[0m\u001b[0;34m\u001b[0m\u001b[0;34m\u001b[0m\u001b[0m\n\u001b[1;32m      3\u001b[0m \u001b[0;31m#line3, =plt.plot(r4,GaussPlt_1*radialEqual1727[-1]/GaussPlt_1[-1],label='PSF')\u001b[0m\u001b[0;34m\u001b[0m\u001b[0;34m\u001b[0m\u001b[0;34m\u001b[0m\u001b[0m\n\u001b[0;32m----> 4\u001b[0;31m \u001b[0mline4\u001b[0m\u001b[0;34m,\u001b[0m \u001b[0;34m=\u001b[0m\u001b[0mplt\u001b[0m\u001b[0;34m.\u001b[0m\u001b[0mplot\u001b[0m\u001b[0;34m(\u001b[0m\u001b[0mr4\u001b[0m\u001b[0;34m,\u001b[0m\u001b[0mBetaPlt_1\u001b[0m\u001b[0;34m*\u001b[0m\u001b[0mradialEqual1727\u001b[0m\u001b[0;34m[\u001b[0m\u001b[0;34m-\u001b[0m\u001b[0;36m1\u001b[0m\u001b[0;34m]\u001b[0m\u001b[0;34m/\u001b[0m\u001b[0mBetaPlt_1\u001b[0m\u001b[0;34m[\u001b[0m\u001b[0;34m-\u001b[0m\u001b[0;36m1\u001b[0m\u001b[0;34m]\u001b[0m\u001b[0;34m,\u001b[0m\u001b[0mlabel\u001b[0m\u001b[0;34m=\u001b[0m\u001b[0;34m'Бета-модель'\u001b[0m\u001b[0;34m)\u001b[0m\u001b[0;34m\u001b[0m\u001b[0;34m\u001b[0m\u001b[0m\n\u001b[0m\u001b[1;32m      5\u001b[0m \u001b[0mplt\u001b[0m\u001b[0;34m.\u001b[0m\u001b[0mxlabel\u001b[0m\u001b[0;34m(\u001b[0m\u001b[0;34m\"Радиус, угл. мин.\"\u001b[0m\u001b[0;34m)\u001b[0m\u001b[0;34m\u001b[0m\u001b[0;34m\u001b[0m\u001b[0m\n\u001b[1;32m      6\u001b[0m \u001b[0mplt\u001b[0m\u001b[0;34m.\u001b[0m\u001b[0mylabel\u001b[0m\u001b[0;34m(\u001b[0m\u001b[0;34m'Поток, мКраб'\u001b[0m\u001b[0;34m)\u001b[0m\u001b[0;34m\u001b[0m\u001b[0;34m\u001b[0m\u001b[0m\n",
      "\u001b[0;32m~/anaconda3/lib/python3.7/site-packages/matplotlib/pyplot.py\u001b[0m in \u001b[0;36mplot\u001b[0;34m(scalex, scaley, data, *args, **kwargs)\u001b[0m\n\u001b[1;32m   2761\u001b[0m     return gca().plot(\n\u001b[1;32m   2762\u001b[0m         *args, scalex=scalex, scaley=scaley, **({\"data\": data} if data\n\u001b[0;32m-> 2763\u001b[0;31m         is not None else {}), **kwargs)\n\u001b[0m\u001b[1;32m   2764\u001b[0m \u001b[0;34m\u001b[0m\u001b[0m\n\u001b[1;32m   2765\u001b[0m \u001b[0;34m\u001b[0m\u001b[0m\n",
      "\u001b[0;32m~/anaconda3/lib/python3.7/site-packages/matplotlib/axes/_axes.py\u001b[0m in \u001b[0;36mplot\u001b[0;34m(self, scalex, scaley, data, *args, **kwargs)\u001b[0m\n\u001b[1;32m   1644\u001b[0m         \"\"\"\n\u001b[1;32m   1645\u001b[0m         \u001b[0mkwargs\u001b[0m \u001b[0;34m=\u001b[0m \u001b[0mcbook\u001b[0m\u001b[0;34m.\u001b[0m\u001b[0mnormalize_kwargs\u001b[0m\u001b[0;34m(\u001b[0m\u001b[0mkwargs\u001b[0m\u001b[0;34m,\u001b[0m \u001b[0mmlines\u001b[0m\u001b[0;34m.\u001b[0m\u001b[0mLine2D\u001b[0m\u001b[0;34m)\u001b[0m\u001b[0;34m\u001b[0m\u001b[0;34m\u001b[0m\u001b[0m\n\u001b[0;32m-> 1646\u001b[0;31m         \u001b[0mlines\u001b[0m \u001b[0;34m=\u001b[0m \u001b[0;34m[\u001b[0m\u001b[0;34m*\u001b[0m\u001b[0mself\u001b[0m\u001b[0;34m.\u001b[0m\u001b[0m_get_lines\u001b[0m\u001b[0;34m(\u001b[0m\u001b[0;34m*\u001b[0m\u001b[0margs\u001b[0m\u001b[0;34m,\u001b[0m \u001b[0mdata\u001b[0m\u001b[0;34m=\u001b[0m\u001b[0mdata\u001b[0m\u001b[0;34m,\u001b[0m \u001b[0;34m**\u001b[0m\u001b[0mkwargs\u001b[0m\u001b[0;34m)\u001b[0m\u001b[0;34m]\u001b[0m\u001b[0;34m\u001b[0m\u001b[0;34m\u001b[0m\u001b[0m\n\u001b[0m\u001b[1;32m   1647\u001b[0m         \u001b[0;32mfor\u001b[0m \u001b[0mline\u001b[0m \u001b[0;32min\u001b[0m \u001b[0mlines\u001b[0m\u001b[0;34m:\u001b[0m\u001b[0;34m\u001b[0m\u001b[0;34m\u001b[0m\u001b[0m\n\u001b[1;32m   1648\u001b[0m             \u001b[0mself\u001b[0m\u001b[0;34m.\u001b[0m\u001b[0madd_line\u001b[0m\u001b[0;34m(\u001b[0m\u001b[0mline\u001b[0m\u001b[0;34m)\u001b[0m\u001b[0;34m\u001b[0m\u001b[0;34m\u001b[0m\u001b[0m\n",
      "\u001b[0;32m~/anaconda3/lib/python3.7/site-packages/matplotlib/axes/_base.py\u001b[0m in \u001b[0;36m__call__\u001b[0;34m(self, *args, **kwargs)\u001b[0m\n\u001b[1;32m    214\u001b[0m                 \u001b[0mthis\u001b[0m \u001b[0;34m+=\u001b[0m \u001b[0margs\u001b[0m\u001b[0;34m[\u001b[0m\u001b[0;36m0\u001b[0m\u001b[0;34m]\u001b[0m\u001b[0;34m,\u001b[0m\u001b[0;34m\u001b[0m\u001b[0;34m\u001b[0m\u001b[0m\n\u001b[1;32m    215\u001b[0m                 \u001b[0margs\u001b[0m \u001b[0;34m=\u001b[0m \u001b[0margs\u001b[0m\u001b[0;34m[\u001b[0m\u001b[0;36m1\u001b[0m\u001b[0;34m:\u001b[0m\u001b[0;34m]\u001b[0m\u001b[0;34m\u001b[0m\u001b[0;34m\u001b[0m\u001b[0m\n\u001b[0;32m--> 216\u001b[0;31m             \u001b[0;32myield\u001b[0m \u001b[0;32mfrom\u001b[0m \u001b[0mself\u001b[0m\u001b[0;34m.\u001b[0m\u001b[0m_plot_args\u001b[0m\u001b[0;34m(\u001b[0m\u001b[0mthis\u001b[0m\u001b[0;34m,\u001b[0m \u001b[0mkwargs\u001b[0m\u001b[0;34m)\u001b[0m\u001b[0;34m\u001b[0m\u001b[0;34m\u001b[0m\u001b[0m\n\u001b[0m\u001b[1;32m    217\u001b[0m \u001b[0;34m\u001b[0m\u001b[0m\n\u001b[1;32m    218\u001b[0m     \u001b[0;32mdef\u001b[0m \u001b[0mget_next_color\u001b[0m\u001b[0;34m(\u001b[0m\u001b[0mself\u001b[0m\u001b[0;34m)\u001b[0m\u001b[0;34m:\u001b[0m\u001b[0;34m\u001b[0m\u001b[0;34m\u001b[0m\u001b[0m\n",
      "\u001b[0;32m~/anaconda3/lib/python3.7/site-packages/matplotlib/axes/_base.py\u001b[0m in \u001b[0;36m_plot_args\u001b[0;34m(self, tup, kwargs)\u001b[0m\n\u001b[1;32m    340\u001b[0m \u001b[0;34m\u001b[0m\u001b[0m\n\u001b[1;32m    341\u001b[0m         \u001b[0;32mif\u001b[0m \u001b[0mx\u001b[0m\u001b[0;34m.\u001b[0m\u001b[0mshape\u001b[0m\u001b[0;34m[\u001b[0m\u001b[0;36m0\u001b[0m\u001b[0;34m]\u001b[0m \u001b[0;34m!=\u001b[0m \u001b[0my\u001b[0m\u001b[0;34m.\u001b[0m\u001b[0mshape\u001b[0m\u001b[0;34m[\u001b[0m\u001b[0;36m0\u001b[0m\u001b[0;34m]\u001b[0m\u001b[0;34m:\u001b[0m\u001b[0;34m\u001b[0m\u001b[0;34m\u001b[0m\u001b[0m\n\u001b[0;32m--> 342\u001b[0;31m             raise ValueError(f\"x and y must have same first dimension, but \"\n\u001b[0m\u001b[1;32m    343\u001b[0m                              f\"have shapes {x.shape} and {y.shape}\")\n\u001b[1;32m    344\u001b[0m         \u001b[0;32mif\u001b[0m \u001b[0mx\u001b[0m\u001b[0;34m.\u001b[0m\u001b[0mndim\u001b[0m \u001b[0;34m>\u001b[0m \u001b[0;36m2\u001b[0m \u001b[0;32mor\u001b[0m \u001b[0my\u001b[0m\u001b[0;34m.\u001b[0m\u001b[0mndim\u001b[0m \u001b[0;34m>\u001b[0m \u001b[0;36m2\u001b[0m\u001b[0;34m:\u001b[0m\u001b[0;34m\u001b[0m\u001b[0;34m\u001b[0m\u001b[0m\n",
      "\u001b[0;31mValueError\u001b[0m: x and y must have same first dimension, but have shapes (16,) and (26,)"
     ]
    },
    {
     "data": {
      "image/png": "[encoded data removed]",
      "text/plain": [
       "<Figure size 432x288 with 1 Axes>"
      ]
     },
     "metadata": {
      "needs_background": "light"
     },
     "output_type": "display_data"
    }
   ],
   "source": [
    "#line1=plt.errorbar(r4, radialEqual1727,xerr=xerr4,yerr=errorsEqual1727,fmt='o',linewidth=0.5,mew=0,color=\"blue\",label='Coma')\n",
    "line2=plt.errorbar(r4, radialBeta1727,xerr=xerr4,yerr=errorsEqual1727,fmt='o',linewidth=0.5,mew=0,color=\"orange\",label='fold')\n",
    "#line3, =plt.plot(r4,GaussPlt_1*radialEqual1727[-1]/GaussPlt_1[-1],label='PSF')\n",
    "line4, =plt.plot(r4,BetaPlt_1*radialEqual1727[-1]/BetaPlt_1[-1],label='Бета-модель')\n",
    "plt.xlabel(\"Радиус, угл. мин.\")\n",
    "plt.ylabel('Поток, мКраб')\n",
    "plt.legend(loc='lower right')"
   ]
  },
  {
   "cell_type": "code",
   "execution_count": 203,
   "metadata": {},
   "outputs": [],
   "source": [
    "BetaMatr_1=np.zeros((Vol,Vol))\n",
    "for i in range(0,Vol):\n",
    "    for j in range(0,Vol):\n",
    "        value=(1+((4*(i-c))**2+(4*(j-c))**2)/10.7**2)**(-3*beta+0.5)\n",
    "        BetaMatr_1[i][j]=value\n",
    "GaussMatr_1=np.zeros((Vol,Vol))\n",
    "for i in range(0,Vol):\n",
    "    for j in range(0,Vol):\n",
    "        value=np.exp(-((4*(i-c))**2+(4*(j-c))**2)/(2*5**2))\n",
    "        GaussMatr_1[i][j]=value\n",
    "BetaPlt_1=Increase_Curve_Matr(i_center,j_center,BetaMatr_1)\n",
    "GaussPlt_1=Increase_Curve_Matr(i_center,j_center,GaussMatr_1)"
   ]
  },
  {
   "cell_type": "code",
   "execution_count": 211,
   "metadata": {},
   "outputs": [
    {
     "data": {
      "text/plain": [
       "0.6539873532843162"
      ]
     },
     "execution_count": 211,
     "metadata": {},
     "output_type": "execute_result"
    }
   ],
   "source": [
    "BetaPlt_1[0]"
   ]
  },
  {
   "cell_type": "code",
   "execution_count": 205,
   "metadata": {},
   "outputs": [
    {
     "data": {
      "text/plain": [
       "<matplotlib.image.AxesImage at 0x7fcf355765f8>"
      ]
     },
     "execution_count": 205,
     "metadata": {},
     "output_type": "execute_result"
    },
    {
     "data": {
      "image/png": "[encoded data removed]",
      "text/plain": [
       "<Figure size 432x288 with 1 Axes>"
      ]
     },
     "metadata": {
      "needs_background": "light"
     },
     "output_type": "display_data"
    }
   ],
   "source": [
    "plt.imshow(GaussMatr_1)"
   ]
  },
  {
   "cell_type": "code",
   "execution_count": null,
   "metadata": {},
   "outputs": [],
   "source": [
    "BetaPlt_gr=[1.96098,]"
   ]
  },
  {
   "cell_type": "code",
   "execution_count": null,
   "metadata": {},
   "outputs": [],
   "source": [
    "def Integrate(f,limit):\n",
    "    r=0.0005\n",
    "    Int=0\n",
    "    while r<limit:\n",
    "        Int+=f(r)*r*0.001\n",
    "        r+=0.001\n",
    "    return 2*np.pi*Int"
   ]
  }
 ],
 "metadata": {
  "kernelspec": {
   "display_name": "Python 3",
   "language": "python",
   "name": "python3"
  },
  "language_info": {
   "codemirror_mode": {
    "name": "ipython",
    "version": 3
   },
   "file_extension": ".py",
   "mimetype": "text/x-python",
   "name": "python",
   "nbconvert_exporter": "python",
   "pygments_lexer": "ipython3",
   "version": "3.7.3"
  }
 },
 "nbformat": 4,
 "nbformat_minor": 2
}
